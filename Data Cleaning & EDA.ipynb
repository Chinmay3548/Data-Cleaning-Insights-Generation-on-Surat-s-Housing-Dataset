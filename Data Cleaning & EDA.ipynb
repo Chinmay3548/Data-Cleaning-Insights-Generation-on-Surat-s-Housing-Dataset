{
 "cells": [
  {
   "cell_type": "markdown",
   "id": "416c7632-2594-46a4-bcef-f8c17233b4cf",
   "metadata": {},
   "source": [
    "Load the dataset"
   ]
  },
  {
   "cell_type": "code",
   "execution_count": 1,
   "id": "7689f041-f73c-4a7d-8ad7-8174f6b7f840",
   "metadata": {},
   "outputs": [],
   "source": [
    "import pandas as pd"
   ]
  },
  {
   "cell_type": "code",
   "execution_count": 2,
   "id": "66a0ade2-e72d-4b36-b190-abf9cbeee236",
   "metadata": {},
   "outputs": [
    {
     "data": {
      "text/html": [
       "<div>\n",
       "<style scoped>\n",
       "    .dataframe tbody tr th:only-of-type {\n",
       "        vertical-align: middle;\n",
       "    }\n",
       "\n",
       "    .dataframe tbody tr th {\n",
       "        vertical-align: top;\n",
       "    }\n",
       "\n",
       "    .dataframe thead th {\n",
       "        text-align: right;\n",
       "    }\n",
       "</style>\n",
       "<table border=\"1\" class=\"dataframe\">\n",
       "  <thead>\n",
       "    <tr style=\"text-align: right;\">\n",
       "      <th></th>\n",
       "      <th>property_name</th>\n",
       "      <th>areaWithType</th>\n",
       "      <th>square_feet</th>\n",
       "      <th>transaction</th>\n",
       "      <th>status</th>\n",
       "      <th>floor</th>\n",
       "      <th>furnishing</th>\n",
       "      <th>facing</th>\n",
       "      <th>description</th>\n",
       "      <th>price_per_sqft</th>\n",
       "      <th>price</th>\n",
       "    </tr>\n",
       "  </thead>\n",
       "  <tbody>\n",
       "    <tr>\n",
       "      <th>0</th>\n",
       "      <td>2 BHK Apartment for Sale in Dindoli Surat</td>\n",
       "      <td>Carpet Area</td>\n",
       "      <td>644 sqft</td>\n",
       "      <td>New Property</td>\n",
       "      <td>Poss. by Oct '24</td>\n",
       "      <td>5 out of 10</td>\n",
       "      <td>Unfurnished</td>\n",
       "      <td>West</td>\n",
       "      <td>Luxury project with basement parking, Solar ro...</td>\n",
       "      <td>₹2,891 per sqft</td>\n",
       "      <td>₹33.8 Lac</td>\n",
       "    </tr>\n",
       "    <tr>\n",
       "      <th>1</th>\n",
       "      <td>2 BHK Apartment for Sale in Althan Surat</td>\n",
       "      <td>Super Area</td>\n",
       "      <td>1278 sqft</td>\n",
       "      <td>New Property</td>\n",
       "      <td>Poss. by Jan '26</td>\n",
       "      <td>6 out of 14</td>\n",
       "      <td>Unfurnished</td>\n",
       "      <td>South -West</td>\n",
       "      <td>2 And 3 BHK Luxurious Flat for Sell In New Alt...</td>\n",
       "      <td>₹3,551 per sqft</td>\n",
       "      <td>₹45.4 Lac</td>\n",
       "    </tr>\n",
       "    <tr>\n",
       "      <th>2</th>\n",
       "      <td>2 BHK Apartment for Sale in Pal Gam Surat</td>\n",
       "      <td>Super Area</td>\n",
       "      <td>1173 sqft</td>\n",
       "      <td>Resale</td>\n",
       "      <td>Ready to Move</td>\n",
       "      <td>5 out of 13</td>\n",
       "      <td>Semi-Furnished</td>\n",
       "      <td>East</td>\n",
       "      <td>This affordable 2 BHK flat is situated along a...</td>\n",
       "      <td>₹3,800 per sqft</td>\n",
       "      <td>₹44.6 Lac</td>\n",
       "    </tr>\n",
       "    <tr>\n",
       "      <th>3</th>\n",
       "      <td>2 BHK Apartment for Sale in Jahangirabad Surat</td>\n",
       "      <td>Carpet Area</td>\n",
       "      <td>700 sqft</td>\n",
       "      <td>New Property</td>\n",
       "      <td>Ready to Move</td>\n",
       "      <td>6 out of 14</td>\n",
       "      <td>Unfurnished</td>\n",
       "      <td>East</td>\n",
       "      <td>2 BHK Flat For sell IN Jahangirabad Prime Loca...</td>\n",
       "      <td>₹3,966 per sqft</td>\n",
       "      <td>₹47 Lac</td>\n",
       "    </tr>\n",
       "    <tr>\n",
       "      <th>4</th>\n",
       "      <td>2 BHK Apartment for Sale in Orchid Fantasia, P...</td>\n",
       "      <td>Super Area</td>\n",
       "      <td>1250 sqft</td>\n",
       "      <td>Orchid Fantasia</td>\n",
       "      <td>New Property</td>\n",
       "      <td>Unfurnished</td>\n",
       "      <td>2</td>\n",
       "      <td>2</td>\n",
       "      <td>Multistorey Apartment for Sale in Palanpur, Su...</td>\n",
       "      <td>₹3,600 per sqft</td>\n",
       "      <td>₹45 Lac</td>\n",
       "    </tr>\n",
       "    <tr>\n",
       "      <th>...</th>\n",
       "      <td>...</td>\n",
       "      <td>...</td>\n",
       "      <td>...</td>\n",
       "      <td>...</td>\n",
       "      <td>...</td>\n",
       "      <td>...</td>\n",
       "      <td>...</td>\n",
       "      <td>...</td>\n",
       "      <td>...</td>\n",
       "      <td>...</td>\n",
       "      <td>...</td>\n",
       "    </tr>\n",
       "    <tr>\n",
       "      <th>4520</th>\n",
       "      <td>6 BHK Apartment for Sale in Millionaires Lifes...</td>\n",
       "      <td>Carpet Area</td>\n",
       "      <td>2000 sqft</td>\n",
       "      <td>New Property</td>\n",
       "      <td>Poss. by Dec '26</td>\n",
       "      <td>5 out of 12</td>\n",
       "      <td>Unfurnished</td>\n",
       "      <td>South - East</td>\n",
       "      <td>Check out Millionaires Lifestyle in Vesu, one ...</td>\n",
       "      <td>NaN</td>\n",
       "      <td>Call for Price</td>\n",
       "    </tr>\n",
       "    <tr>\n",
       "      <th>4521</th>\n",
       "      <td>4 BHK Apartment for Sale in Savan Superia, Alt...</td>\n",
       "      <td>Super Area</td>\n",
       "      <td>3600 sqft</td>\n",
       "      <td>New Property</td>\n",
       "      <td>Poss. by Dec '25</td>\n",
       "      <td>5 out of 16</td>\n",
       "      <td>Unfurnished</td>\n",
       "      <td>South - East</td>\n",
       "      <td>Superia is a premium residential project launc...</td>\n",
       "      <td>NaN</td>\n",
       "      <td>Call for Price</td>\n",
       "    </tr>\n",
       "    <tr>\n",
       "      <th>4522</th>\n",
       "      <td>5 BHK Apartment for Sale in Roongta Green Vall...</td>\n",
       "      <td>Carpet Area</td>\n",
       "      <td>2250 sqft</td>\n",
       "      <td>New Property</td>\n",
       "      <td>Poss. by Dec '25</td>\n",
       "      <td>7 out of 13</td>\n",
       "      <td>Unfurnished</td>\n",
       "      <td>North - East</td>\n",
       "      <td>When it comes to beautiful homes, nothing beat...</td>\n",
       "      <td>NaN</td>\n",
       "      <td>Call for Price</td>\n",
       "    </tr>\n",
       "    <tr>\n",
       "      <th>4523</th>\n",
       "      <td>6 BHK Apartment for Sale in Cellestial Dreams,...</td>\n",
       "      <td>Carpet Area</td>\n",
       "      <td>3450 sqft</td>\n",
       "      <td>New Property</td>\n",
       "      <td>Ready to Move</td>\n",
       "      <td>7 out of 18</td>\n",
       "      <td>Unfurnished</td>\n",
       "      <td>North - West</td>\n",
       "      <td>DRB Ravani Cellestial Dreams in Vesu, Surat is...</td>\n",
       "      <td>NaN</td>\n",
       "      <td>Call for Price</td>\n",
       "    </tr>\n",
       "    <tr>\n",
       "      <th>4524</th>\n",
       "      <td>4 BHK Apartment for Sale in Roongta Green Vall...</td>\n",
       "      <td>Super Area</td>\n",
       "      <td>4500 sqft</td>\n",
       "      <td>New Property</td>\n",
       "      <td>Ready to Move</td>\n",
       "      <td>3 out of 12</td>\n",
       "      <td>Unfurnished</td>\n",
       "      <td>North</td>\n",
       "      <td>Roongta Green Valley is one of the popular res...</td>\n",
       "      <td>NaN</td>\n",
       "      <td>Call for Price</td>\n",
       "    </tr>\n",
       "  </tbody>\n",
       "</table>\n",
       "<p>4525 rows × 11 columns</p>\n",
       "</div>"
      ],
      "text/plain": [
       "                                          property_name areaWithType  \\\n",
       "0             2 BHK Apartment for Sale in Dindoli Surat  Carpet Area   \n",
       "1              2 BHK Apartment for Sale in Althan Surat   Super Area   \n",
       "2             2 BHK Apartment for Sale in Pal Gam Surat   Super Area   \n",
       "3        2 BHK Apartment for Sale in Jahangirabad Surat  Carpet Area   \n",
       "4     2 BHK Apartment for Sale in Orchid Fantasia, P...   Super Area   \n",
       "...                                                 ...          ...   \n",
       "4520  6 BHK Apartment for Sale in Millionaires Lifes...  Carpet Area   \n",
       "4521  4 BHK Apartment for Sale in Savan Superia, Alt...   Super Area   \n",
       "4522  5 BHK Apartment for Sale in Roongta Green Vall...  Carpet Area   \n",
       "4523  6 BHK Apartment for Sale in Cellestial Dreams,...  Carpet Area   \n",
       "4524  4 BHK Apartment for Sale in Roongta Green Vall...   Super Area   \n",
       "\n",
       "     square_feet      transaction            status        floor  \\\n",
       "0       644 sqft     New Property  Poss. by Oct '24  5 out of 10   \n",
       "1      1278 sqft     New Property  Poss. by Jan '26  6 out of 14   \n",
       "2      1173 sqft           Resale     Ready to Move  5 out of 13   \n",
       "3       700 sqft     New Property     Ready to Move  6 out of 14   \n",
       "4      1250 sqft  Orchid Fantasia      New Property  Unfurnished   \n",
       "...          ...              ...               ...          ...   \n",
       "4520   2000 sqft     New Property  Poss. by Dec '26  5 out of 12   \n",
       "4521   3600 sqft     New Property  Poss. by Dec '25  5 out of 16   \n",
       "4522   2250 sqft     New Property  Poss. by Dec '25  7 out of 13   \n",
       "4523   3450 sqft     New Property     Ready to Move  7 out of 18   \n",
       "4524   4500 sqft     New Property     Ready to Move  3 out of 12   \n",
       "\n",
       "          furnishing        facing  \\\n",
       "0        Unfurnished          West   \n",
       "1        Unfurnished   South -West   \n",
       "2     Semi-Furnished          East   \n",
       "3        Unfurnished          East   \n",
       "4                  2             2   \n",
       "...              ...           ...   \n",
       "4520     Unfurnished  South - East   \n",
       "4521     Unfurnished  South - East   \n",
       "4522     Unfurnished  North - East   \n",
       "4523     Unfurnished  North - West   \n",
       "4524     Unfurnished         North   \n",
       "\n",
       "                                            description    price_per_sqft  \\\n",
       "0     Luxury project with basement parking, Solar ro...  ₹2,891 per sqft    \n",
       "1     2 And 3 BHK Luxurious Flat for Sell In New Alt...  ₹3,551 per sqft    \n",
       "2     This affordable 2 BHK flat is situated along a...  ₹3,800 per sqft    \n",
       "3     2 BHK Flat For sell IN Jahangirabad Prime Loca...  ₹3,966 per sqft    \n",
       "4     Multistorey Apartment for Sale in Palanpur, Su...  ₹3,600 per sqft    \n",
       "...                                                 ...               ...   \n",
       "4520  Check out Millionaires Lifestyle in Vesu, one ...               NaN   \n",
       "4521  Superia is a premium residential project launc...               NaN   \n",
       "4522  When it comes to beautiful homes, nothing beat...               NaN   \n",
       "4523  DRB Ravani Cellestial Dreams in Vesu, Surat is...               NaN   \n",
       "4524  Roongta Green Valley is one of the popular res...               NaN   \n",
       "\n",
       "               price  \n",
       "0         ₹33.8 Lac   \n",
       "1         ₹45.4 Lac   \n",
       "2         ₹44.6 Lac   \n",
       "3           ₹47 Lac   \n",
       "4           ₹45 Lac   \n",
       "...              ...  \n",
       "4520  Call for Price  \n",
       "4521  Call for Price  \n",
       "4522  Call for Price  \n",
       "4523  Call for Price  \n",
       "4524  Call for Price  \n",
       "\n",
       "[4525 rows x 11 columns]"
      ]
     },
     "execution_count": 2,
     "metadata": {},
     "output_type": "execute_result"
    }
   ],
   "source": [
    "surat = pd.read_csv('surat_uncleaned.csv')\n",
    "surat"
   ]
  },
  {
   "cell_type": "code",
   "execution_count": 7,
   "id": "e52d13a3-411a-4a4d-9778-5e7ed3055b5e",
   "metadata": {},
   "outputs": [
    {
     "data": {
      "text/html": [
       "<div>\n",
       "<style scoped>\n",
       "    .dataframe tbody tr th:only-of-type {\n",
       "        vertical-align: middle;\n",
       "    }\n",
       "\n",
       "    .dataframe tbody tr th {\n",
       "        vertical-align: top;\n",
       "    }\n",
       "\n",
       "    .dataframe thead th {\n",
       "        text-align: right;\n",
       "    }\n",
       "</style>\n",
       "<table border=\"1\" class=\"dataframe\">\n",
       "  <thead>\n",
       "    <tr style=\"text-align: right;\">\n",
       "      <th></th>\n",
       "      <th>property_name</th>\n",
       "      <th>area_type</th>\n",
       "      <th>square_feet</th>\n",
       "      <th>transaction</th>\n",
       "      <th>status</th>\n",
       "      <th>floor_info</th>\n",
       "      <th>furnishing</th>\n",
       "      <th>facing</th>\n",
       "      <th>description</th>\n",
       "      <th>price_per_sqft</th>\n",
       "      <th>price</th>\n",
       "    </tr>\n",
       "  </thead>\n",
       "  <tbody>\n",
       "    <tr>\n",
       "      <th>count</th>\n",
       "      <td>4525</td>\n",
       "      <td>4525</td>\n",
       "      <td>4525</td>\n",
       "      <td>4421</td>\n",
       "      <td>4524</td>\n",
       "      <td>4480</td>\n",
       "      <td>4185</td>\n",
       "      <td>3936</td>\n",
       "      <td>3154</td>\n",
       "      <td>4157</td>\n",
       "      <td>4525</td>\n",
       "    </tr>\n",
       "    <tr>\n",
       "      <th>unique</th>\n",
       "      <td>1992</td>\n",
       "      <td>6</td>\n",
       "      <td>1399</td>\n",
       "      <td>38</td>\n",
       "      <td>138</td>\n",
       "      <td>222</td>\n",
       "      <td>78</td>\n",
       "      <td>176</td>\n",
       "      <td>2588</td>\n",
       "      <td>2134</td>\n",
       "      <td>841</td>\n",
       "    </tr>\n",
       "    <tr>\n",
       "      <th>top</th>\n",
       "      <td>3 BHK Apartment for Sale in Vesu Surat</td>\n",
       "      <td>Super Area</td>\n",
       "      <td>1000 sqft</td>\n",
       "      <td>Resale</td>\n",
       "      <td>Ready to Move</td>\n",
       "      <td>Resale</td>\n",
       "      <td>Unfurnished</td>\n",
       "      <td>East</td>\n",
       "      <td>Multistorey apartment is available for sale. I...</td>\n",
       "      <td>₹6,000 per sqft</td>\n",
       "      <td>Call for Price</td>\n",
       "    </tr>\n",
       "    <tr>\n",
       "      <th>freq</th>\n",
       "      <td>93</td>\n",
       "      <td>2599</td>\n",
       "      <td>77</td>\n",
       "      <td>2197</td>\n",
       "      <td>3078</td>\n",
       "      <td>431</td>\n",
       "      <td>2322</td>\n",
       "      <td>1487</td>\n",
       "      <td>35</td>\n",
       "      <td>64</td>\n",
       "      <td>173</td>\n",
       "    </tr>\n",
       "  </tbody>\n",
       "</table>\n",
       "</div>"
      ],
      "text/plain": [
       "                                 property_name   area_type square_feet  \\\n",
       "count                                     4525        4525        4525   \n",
       "unique                                    1992           6        1399   \n",
       "top     3 BHK Apartment for Sale in Vesu Surat  Super Area   1000 sqft   \n",
       "freq                                        93        2599          77   \n",
       "\n",
       "       transaction         status floor_info   furnishing facing  \\\n",
       "count         4421           4524       4480         4185   3936   \n",
       "unique          38            138        222           78    176   \n",
       "top         Resale  Ready to Move     Resale  Unfurnished   East   \n",
       "freq          2197           3078        431         2322   1487   \n",
       "\n",
       "                                              description    price_per_sqft  \\\n",
       "count                                                3154              4157   \n",
       "unique                                               2588              2134   \n",
       "top     Multistorey apartment is available for sale. I...  ₹6,000 per sqft    \n",
       "freq                                                   35                64   \n",
       "\n",
       "                 price  \n",
       "count             4525  \n",
       "unique             841  \n",
       "top     Call for Price  \n",
       "freq               173  "
      ]
     },
     "execution_count": 7,
     "metadata": {},
     "output_type": "execute_result"
    }
   ],
   "source": [
    "surat.describe()"
   ]
  },
  {
   "cell_type": "markdown",
   "id": "a8950fb9-0479-47da-9ef5-f17b622ede49",
   "metadata": {},
   "source": [
    "Rename Columns"
   ]
  },
  {
   "cell_type": "code",
   "execution_count": 6,
   "id": "15dff8b8-0e15-4c3e-af9f-50137857e9f5",
   "metadata": {},
   "outputs": [
    {
     "name": "stdout",
     "output_type": "stream",
     "text": [
      "Index(['property_name', 'area_type', 'square_feet', 'transaction', 'status',\n",
      "       'floor_info', 'furnishing', 'facing', 'description', 'price_per_sqft',\n",
      "       'price'],\n",
      "      dtype='object')\n"
     ]
    }
   ],
   "source": [
    "# Rename columns for better readability\n",
    "surat.rename(columns={\n",
    "    'areaWithType': 'area_type',\n",
    "    'floor': 'floor_info'\n",
    "}, inplace=True)\n",
    "\n",
    "# Verify changes\n",
    "print(surat.columns)\n"
   ]
  },
  {
   "cell_type": "markdown",
   "id": "95635740-a8d2-48aa-aa94-03173a18ad69",
   "metadata": {},
   "source": [
    "Handle Duplicates"
   ]
  },
  {
   "cell_type": "code",
   "execution_count": 9,
   "id": "a2466e35-41e4-4823-9760-aa6c6349bf39",
   "metadata": {},
   "outputs": [
    {
     "data": {
      "text/html": [
       "<div>\n",
       "<style scoped>\n",
       "    .dataframe tbody tr th:only-of-type {\n",
       "        vertical-align: middle;\n",
       "    }\n",
       "\n",
       "    .dataframe tbody tr th {\n",
       "        vertical-align: top;\n",
       "    }\n",
       "\n",
       "    .dataframe thead th {\n",
       "        text-align: right;\n",
       "    }\n",
       "</style>\n",
       "<table border=\"1\" class=\"dataframe\">\n",
       "  <thead>\n",
       "    <tr style=\"text-align: right;\">\n",
       "      <th></th>\n",
       "      <th>property_name</th>\n",
       "      <th>area_type</th>\n",
       "      <th>square_feet</th>\n",
       "      <th>transaction</th>\n",
       "      <th>status</th>\n",
       "      <th>floor_info</th>\n",
       "      <th>furnishing</th>\n",
       "      <th>facing</th>\n",
       "      <th>description</th>\n",
       "      <th>price_per_sqft</th>\n",
       "      <th>price</th>\n",
       "    </tr>\n",
       "  </thead>\n",
       "  <tbody>\n",
       "    <tr>\n",
       "      <th>1511</th>\n",
       "      <td>2 BHK Apartment for Sale in NavYug College Surat</td>\n",
       "      <td>Carpet Area</td>\n",
       "      <td>1650 sqft</td>\n",
       "      <td>Resale</td>\n",
       "      <td>Ready to Move</td>\n",
       "      <td>7 out of 10</td>\n",
       "      <td>Unfurnished</td>\n",
       "      <td>East</td>\n",
       "      <td>Presenting an exceptional 2 BHK flat for sale,...</td>\n",
       "      <td>₹3,125 per sqft</td>\n",
       "      <td>₹50 Lac</td>\n",
       "    </tr>\n",
       "    <tr>\n",
       "      <th>1512</th>\n",
       "      <td>2 BHK Apartment for Sale in Adajan Surat</td>\n",
       "      <td>Super Area</td>\n",
       "      <td>847 sqft</td>\n",
       "      <td>Resale</td>\n",
       "      <td>Ready to Move</td>\n",
       "      <td>1 out of 13</td>\n",
       "      <td>Furnished</td>\n",
       "      <td>East</td>\n",
       "      <td>2 BHK, Multistorey Apartment is available for ...</td>\n",
       "      <td>₹5,903 per sqft</td>\n",
       "      <td>₹50 Lac</td>\n",
       "    </tr>\n",
       "    <tr>\n",
       "      <th>1535</th>\n",
       "      <td>2 BHK Apartment for Sale in Palanpur Surat</td>\n",
       "      <td>Super Area</td>\n",
       "      <td>1326 sqft</td>\n",
       "      <td>Resale</td>\n",
       "      <td>Ready to Move</td>\n",
       "      <td>9 out of 14</td>\n",
       "      <td>Unfurnished</td>\n",
       "      <td>East</td>\n",
       "      <td>2 BHK  3 BHK  apartments at palanpur. with all...</td>\n",
       "      <td>₹3,771 per sqft</td>\n",
       "      <td>₹50 Lac</td>\n",
       "    </tr>\n",
       "    <tr>\n",
       "      <th>1566</th>\n",
       "      <td>2 BHK Builder Floor for Sale in Nana Varachha ...</td>\n",
       "      <td>Super Area</td>\n",
       "      <td>1267 sqft</td>\n",
       "      <td>Resale</td>\n",
       "      <td>Ready to Move</td>\n",
       "      <td>2 out of 4</td>\n",
       "      <td>Furnished</td>\n",
       "      <td>North - West</td>\n",
       "      <td>2 BHK, Builder Floor Apartment is available fo...</td>\n",
       "      <td>₹3,946 per sqft</td>\n",
       "      <td>₹50 Lac</td>\n",
       "    </tr>\n",
       "    <tr>\n",
       "      <th>1571</th>\n",
       "      <td>2 BHK Apartment for Sale in Kamrej Road Surat</td>\n",
       "      <td>Carpet Area</td>\n",
       "      <td>783 sqft</td>\n",
       "      <td>Resale</td>\n",
       "      <td>Ready to Move</td>\n",
       "      <td>5 out of 5</td>\n",
       "      <td>Unfurnished</td>\n",
       "      <td>North - East</td>\n",
       "      <td>Multistorey apartment is available for sale. I...</td>\n",
       "      <td>NaN</td>\n",
       "      <td>₹50 Lac</td>\n",
       "    </tr>\n",
       "    <tr>\n",
       "      <th>...</th>\n",
       "      <td>...</td>\n",
       "      <td>...</td>\n",
       "      <td>...</td>\n",
       "      <td>...</td>\n",
       "      <td>...</td>\n",
       "      <td>...</td>\n",
       "      <td>...</td>\n",
       "      <td>...</td>\n",
       "      <td>...</td>\n",
       "      <td>...</td>\n",
       "      <td>...</td>\n",
       "    </tr>\n",
       "    <tr>\n",
       "      <th>3870</th>\n",
       "      <td>4 BHK Builder Floor for Sale in New citylight ...</td>\n",
       "      <td>Carpet Area</td>\n",
       "      <td>2800 sqft</td>\n",
       "      <td>Furnished</td>\n",
       "      <td>2 out of 12</td>\n",
       "      <td>New Property</td>\n",
       "      <td>North - West</td>\n",
       "      <td>Main Road</td>\n",
       "      <td>Flat fully furnished, with 4 bedrooms, all lux...</td>\n",
       "      <td>NaN</td>\n",
       "      <td>Call for Price</td>\n",
       "    </tr>\n",
       "    <tr>\n",
       "      <th>3903</th>\n",
       "      <td>5 BHK  House for Sale in Jahangir Pura Surat</td>\n",
       "      <td>Carpet Area</td>\n",
       "      <td>3400 sqft</td>\n",
       "      <td>Semi-Furnished</td>\n",
       "      <td>Ready to Move</td>\n",
       "      <td>Resale</td>\n",
       "      <td>North - East</td>\n",
       "      <td>Main Road</td>\n",
       "      <td>new property</td>\n",
       "      <td>₹15,152 per sqft</td>\n",
       "      <td>₹1.50 Cr</td>\n",
       "    </tr>\n",
       "    <tr>\n",
       "      <th>4152</th>\n",
       "      <td>3 BHK Apartment for Sale in Vesu Surat</td>\n",
       "      <td>Super Area</td>\n",
       "      <td>2500 sqft</td>\n",
       "      <td>New Property</td>\n",
       "      <td>Poss. by Mar '25</td>\n",
       "      <td>7 out of 13</td>\n",
       "      <td>Unfurnished</td>\n",
       "      <td>South -West</td>\n",
       "      <td>3 BHK Flat For Sell In Vesu Prime Area With Al...</td>\n",
       "      <td>₹6,000 per sqft</td>\n",
       "      <td>₹1.50 Cr</td>\n",
       "    </tr>\n",
       "    <tr>\n",
       "      <th>4273</th>\n",
       "      <td>3 BHK Apartment for Sale in Sky Superia, VIP R...</td>\n",
       "      <td>Super Area</td>\n",
       "      <td>2400 sqft</td>\n",
       "      <td>New Property</td>\n",
       "      <td>Ready to Move</td>\n",
       "      <td>10 out of 19</td>\n",
       "      <td>Unfurnished</td>\n",
       "      <td>East</td>\n",
       "      <td>There are apartments for sale in Sky Superia. ...</td>\n",
       "      <td>₹6,250 per sqft</td>\n",
       "      <td>₹1.50 Cr</td>\n",
       "    </tr>\n",
       "    <tr>\n",
       "      <th>4361</th>\n",
       "      <td>4 BHK  House for Sale in Someshwara Enclave, V...</td>\n",
       "      <td>Carpet Area</td>\n",
       "      <td>2000 sqft</td>\n",
       "      <td>Unfurnished</td>\n",
       "      <td>Ready to Move</td>\n",
       "      <td>Resale</td>\n",
       "      <td>East</td>\n",
       "      <td>Garden/Park, Main Road</td>\n",
       "      <td>Double Decker</td>\n",
       "      <td>₹15,873 per sqft</td>\n",
       "      <td>₹1.50 Cr</td>\n",
       "    </tr>\n",
       "  </tbody>\n",
       "</table>\n",
       "<p>109 rows × 11 columns</p>\n",
       "</div>"
      ],
      "text/plain": [
       "                                          property_name    area_type  \\\n",
       "1511   2 BHK Apartment for Sale in NavYug College Surat  Carpet Area   \n",
       "1512           2 BHK Apartment for Sale in Adajan Surat   Super Area   \n",
       "1535         2 BHK Apartment for Sale in Palanpur Surat   Super Area   \n",
       "1566  2 BHK Builder Floor for Sale in Nana Varachha ...   Super Area   \n",
       "1571      2 BHK Apartment for Sale in Kamrej Road Surat  Carpet Area   \n",
       "...                                                 ...          ...   \n",
       "3870  4 BHK Builder Floor for Sale in New citylight ...  Carpet Area   \n",
       "3903       5 BHK  House for Sale in Jahangir Pura Surat  Carpet Area   \n",
       "4152             3 BHK Apartment for Sale in Vesu Surat   Super Area   \n",
       "4273  3 BHK Apartment for Sale in Sky Superia, VIP R...   Super Area   \n",
       "4361  4 BHK  House for Sale in Someshwara Enclave, V...  Carpet Area   \n",
       "\n",
       "     square_feet     transaction            status    floor_info  \\\n",
       "1511   1650 sqft          Resale     Ready to Move   7 out of 10   \n",
       "1512    847 sqft          Resale     Ready to Move   1 out of 13   \n",
       "1535   1326 sqft          Resale     Ready to Move   9 out of 14   \n",
       "1566   1267 sqft          Resale     Ready to Move    2 out of 4   \n",
       "1571    783 sqft          Resale     Ready to Move    5 out of 5   \n",
       "...          ...             ...               ...           ...   \n",
       "3870   2800 sqft       Furnished       2 out of 12  New Property   \n",
       "3903   3400 sqft  Semi-Furnished     Ready to Move        Resale   \n",
       "4152   2500 sqft    New Property  Poss. by Mar '25   7 out of 13   \n",
       "4273   2400 sqft    New Property     Ready to Move  10 out of 19   \n",
       "4361   2000 sqft     Unfurnished     Ready to Move        Resale   \n",
       "\n",
       "        furnishing                  facing  \\\n",
       "1511   Unfurnished                    East   \n",
       "1512     Furnished                    East   \n",
       "1535   Unfurnished                    East   \n",
       "1566     Furnished            North - West   \n",
       "1571   Unfurnished            North - East   \n",
       "...            ...                     ...   \n",
       "3870  North - West               Main Road   \n",
       "3903  North - East               Main Road   \n",
       "4152   Unfurnished             South -West   \n",
       "4273   Unfurnished                    East   \n",
       "4361          East  Garden/Park, Main Road   \n",
       "\n",
       "                                            description     price_per_sqft  \\\n",
       "1511  Presenting an exceptional 2 BHK flat for sale,...   ₹3,125 per sqft    \n",
       "1512  2 BHK, Multistorey Apartment is available for ...   ₹5,903 per sqft    \n",
       "1535  2 BHK  3 BHK  apartments at palanpur. with all...   ₹3,771 per sqft    \n",
       "1566  2 BHK, Builder Floor Apartment is available fo...   ₹3,946 per sqft    \n",
       "1571  Multistorey apartment is available for sale. I...                NaN   \n",
       "...                                                 ...                ...   \n",
       "3870  Flat fully furnished, with 4 bedrooms, all lux...                NaN   \n",
       "3903                                       new property  ₹15,152 per sqft    \n",
       "4152  3 BHK Flat For Sell In Vesu Prime Area With Al...   ₹6,000 per sqft    \n",
       "4273  There are apartments for sale in Sky Superia. ...   ₹6,250 per sqft    \n",
       "4361                                      Double Decker  ₹15,873 per sqft    \n",
       "\n",
       "               price  \n",
       "1511        ₹50 Lac   \n",
       "1512        ₹50 Lac   \n",
       "1535        ₹50 Lac   \n",
       "1566        ₹50 Lac   \n",
       "1571        ₹50 Lac   \n",
       "...              ...  \n",
       "3870  Call for Price  \n",
       "3903       ₹1.50 Cr   \n",
       "4152       ₹1.50 Cr   \n",
       "4273       ₹1.50 Cr   \n",
       "4361       ₹1.50 Cr   \n",
       "\n",
       "[109 rows x 11 columns]"
      ]
     },
     "execution_count": 9,
     "metadata": {},
     "output_type": "execute_result"
    }
   ],
   "source": [
    "surat[surat.duplicated()]"
   ]
  },
  {
   "cell_type": "code",
   "execution_count": 10,
   "id": "145383a3-58fb-43aa-b9d2-b376032f1a61",
   "metadata": {},
   "outputs": [
    {
     "name": "stdout",
     "output_type": "stream",
     "text": [
      "Number of duplicate rows before removal: 109\n"
     ]
    }
   ],
   "source": [
    "print(\"Number of duplicate rows before removal:\", surat.duplicated().sum())"
   ]
  },
  {
   "cell_type": "code",
   "execution_count": 11,
   "id": "78ce0df1-48ff-4dba-9845-dee5acb749be",
   "metadata": {},
   "outputs": [],
   "source": [
    "surat.drop_duplicates(inplace=True)"
   ]
  },
  {
   "cell_type": "code",
   "execution_count": 12,
   "id": "8610773b-b1eb-4d6b-97e4-9a78c1e3f135",
   "metadata": {},
   "outputs": [
    {
     "name": "stdout",
     "output_type": "stream",
     "text": [
      "Number of duplicate rows after removal: 0\n",
      "Dataset shape after removal: (4416, 11)\n"
     ]
    }
   ],
   "source": [
    "print(\"Number of duplicate rows after removal:\", surat.duplicated().sum())\n",
    "print(\"Dataset shape after removal:\", surat.shape)"
   ]
  },
  {
   "cell_type": "markdown",
   "id": "9314d50d-5425-4242-8418-28154b60a35d",
   "metadata": {},
   "source": [
    "Data Type Handling"
   ]
  },
  {
   "cell_type": "code",
   "execution_count": 13,
   "id": "58b1067c-a31a-439d-964a-3fcb7fbbab7f",
   "metadata": {},
   "outputs": [],
   "source": [
    "#square_feet column\n",
    "\n",
    "surat['square_feet'] = surat['square_feet'].str.replace('sqft', '', regex=False)\n",
    "surat['square_feet'] = surat['square_feet'].str.replace(',', '', regex=False)\n",
    "surat['square_feet'] = surat['square_feet'].str.strip()"
   ]
  },
  {
   "cell_type": "code",
   "execution_count": 14,
   "id": "960bc75d-8a0a-46b6-8a4c-547b6ba24c52",
   "metadata": {},
   "outputs": [
    {
     "name": "stdout",
     "output_type": "stream",
     "text": [
      "0     644.0\n",
      "1    1278.0\n",
      "2    1173.0\n",
      "3     700.0\n",
      "4    1250.0\n",
      "5    1265.0\n",
      "6    1404.0\n",
      "7     700.0\n",
      "8    1180.0\n",
      "9     720.0\n",
      "Name: square_feet, dtype: float64\n",
      "Datatype: float64\n"
     ]
    }
   ],
   "source": [
    "surat['square_feet'] = pd.to_numeric(surat['square_feet'], errors='coerce')\n",
    "\n",
    "print(surat['square_feet'].head(10))\n",
    "print(\"Datatype:\", surat['square_feet'].dtype)"
   ]
  },
  {
   "cell_type": "code",
   "execution_count": 15,
   "id": "c5059ac3-0103-42be-8c40-263302250ae4",
   "metadata": {},
   "outputs": [
    {
     "data": {
      "text/html": [
       "<div>\n",
       "<style scoped>\n",
       "    .dataframe tbody tr th:only-of-type {\n",
       "        vertical-align: middle;\n",
       "    }\n",
       "\n",
       "    .dataframe tbody tr th {\n",
       "        vertical-align: top;\n",
       "    }\n",
       "\n",
       "    .dataframe thead th {\n",
       "        text-align: right;\n",
       "    }\n",
       "</style>\n",
       "<table border=\"1\" class=\"dataframe\">\n",
       "  <thead>\n",
       "    <tr style=\"text-align: right;\">\n",
       "      <th></th>\n",
       "      <th>property_name</th>\n",
       "      <th>area_type</th>\n",
       "      <th>square_feet</th>\n",
       "      <th>transaction</th>\n",
       "      <th>status</th>\n",
       "      <th>floor_info</th>\n",
       "      <th>furnishing</th>\n",
       "      <th>facing</th>\n",
       "      <th>description</th>\n",
       "      <th>price_per_sqft</th>\n",
       "      <th>price</th>\n",
       "    </tr>\n",
       "  </thead>\n",
       "  <tbody>\n",
       "    <tr>\n",
       "      <th>0</th>\n",
       "      <td>2 BHK Apartment for Sale in Dindoli Surat</td>\n",
       "      <td>Carpet Area</td>\n",
       "      <td>644.0</td>\n",
       "      <td>New Property</td>\n",
       "      <td>Poss. by Oct '24</td>\n",
       "      <td>5 out of 10</td>\n",
       "      <td>Unfurnished</td>\n",
       "      <td>West</td>\n",
       "      <td>Luxury project with basement parking, Solar ro...</td>\n",
       "      <td>₹2,891 per sqft</td>\n",
       "      <td>₹33.8 Lac</td>\n",
       "    </tr>\n",
       "    <tr>\n",
       "      <th>1</th>\n",
       "      <td>2 BHK Apartment for Sale in Althan Surat</td>\n",
       "      <td>Super Area</td>\n",
       "      <td>1278.0</td>\n",
       "      <td>New Property</td>\n",
       "      <td>Poss. by Jan '26</td>\n",
       "      <td>6 out of 14</td>\n",
       "      <td>Unfurnished</td>\n",
       "      <td>South -West</td>\n",
       "      <td>2 And 3 BHK Luxurious Flat for Sell In New Alt...</td>\n",
       "      <td>₹3,551 per sqft</td>\n",
       "      <td>₹45.4 Lac</td>\n",
       "    </tr>\n",
       "    <tr>\n",
       "      <th>2</th>\n",
       "      <td>2 BHK Apartment for Sale in Pal Gam Surat</td>\n",
       "      <td>Super Area</td>\n",
       "      <td>1173.0</td>\n",
       "      <td>Resale</td>\n",
       "      <td>Ready to Move</td>\n",
       "      <td>5 out of 13</td>\n",
       "      <td>Semi-Furnished</td>\n",
       "      <td>East</td>\n",
       "      <td>This affordable 2 BHK flat is situated along a...</td>\n",
       "      <td>₹3,800 per sqft</td>\n",
       "      <td>₹44.6 Lac</td>\n",
       "    </tr>\n",
       "    <tr>\n",
       "      <th>3</th>\n",
       "      <td>2 BHK Apartment for Sale in Jahangirabad Surat</td>\n",
       "      <td>Carpet Area</td>\n",
       "      <td>700.0</td>\n",
       "      <td>New Property</td>\n",
       "      <td>Ready to Move</td>\n",
       "      <td>6 out of 14</td>\n",
       "      <td>Unfurnished</td>\n",
       "      <td>East</td>\n",
       "      <td>2 BHK Flat For sell IN Jahangirabad Prime Loca...</td>\n",
       "      <td>₹3,966 per sqft</td>\n",
       "      <td>₹47 Lac</td>\n",
       "    </tr>\n",
       "    <tr>\n",
       "      <th>4</th>\n",
       "      <td>2 BHK Apartment for Sale in Orchid Fantasia, P...</td>\n",
       "      <td>Super Area</td>\n",
       "      <td>1250.0</td>\n",
       "      <td>Orchid Fantasia</td>\n",
       "      <td>New Property</td>\n",
       "      <td>Unfurnished</td>\n",
       "      <td>2</td>\n",
       "      <td>2</td>\n",
       "      <td>Multistorey Apartment for Sale in Palanpur, Su...</td>\n",
       "      <td>₹3,600 per sqft</td>\n",
       "      <td>₹45 Lac</td>\n",
       "    </tr>\n",
       "  </tbody>\n",
       "</table>\n",
       "</div>"
      ],
      "text/plain": [
       "                                       property_name    area_type  \\\n",
       "0          2 BHK Apartment for Sale in Dindoli Surat  Carpet Area   \n",
       "1           2 BHK Apartment for Sale in Althan Surat   Super Area   \n",
       "2          2 BHK Apartment for Sale in Pal Gam Surat   Super Area   \n",
       "3     2 BHK Apartment for Sale in Jahangirabad Surat  Carpet Area   \n",
       "4  2 BHK Apartment for Sale in Orchid Fantasia, P...   Super Area   \n",
       "\n",
       "   square_feet      transaction            status   floor_info  \\\n",
       "0        644.0     New Property  Poss. by Oct '24  5 out of 10   \n",
       "1       1278.0     New Property  Poss. by Jan '26  6 out of 14   \n",
       "2       1173.0           Resale     Ready to Move  5 out of 13   \n",
       "3        700.0     New Property     Ready to Move  6 out of 14   \n",
       "4       1250.0  Orchid Fantasia      New Property  Unfurnished   \n",
       "\n",
       "       furnishing       facing  \\\n",
       "0     Unfurnished         West   \n",
       "1     Unfurnished  South -West   \n",
       "2  Semi-Furnished         East   \n",
       "3     Unfurnished         East   \n",
       "4               2            2   \n",
       "\n",
       "                                         description    price_per_sqft  \\\n",
       "0  Luxury project with basement parking, Solar ro...  ₹2,891 per sqft    \n",
       "1  2 And 3 BHK Luxurious Flat for Sell In New Alt...  ₹3,551 per sqft    \n",
       "2  This affordable 2 BHK flat is situated along a...  ₹3,800 per sqft    \n",
       "3  2 BHK Flat For sell IN Jahangirabad Prime Loca...  ₹3,966 per sqft    \n",
       "4  Multistorey Apartment for Sale in Palanpur, Su...  ₹3,600 per sqft    \n",
       "\n",
       "        price  \n",
       "0  ₹33.8 Lac   \n",
       "1  ₹45.4 Lac   \n",
       "2  ₹44.6 Lac   \n",
       "3    ₹47 Lac   \n",
       "4    ₹45 Lac   "
      ]
     },
     "execution_count": 15,
     "metadata": {},
     "output_type": "execute_result"
    }
   ],
   "source": [
    "surat.head(5)"
   ]
  },
  {
   "cell_type": "code",
   "execution_count": null,
   "id": "2042fc7e-ff38-4cde-92f7-dc67dd0f4133",
   "metadata": {},
   "outputs": [],
   "source": []
  },
  {
   "cell_type": "code",
   "execution_count": 16,
   "id": "11648f6f-7830-44a9-9b5b-018d5bac84ef",
   "metadata": {},
   "outputs": [
    {
     "data": {
      "text/plain": [
       "floor_info\n",
       "Resale               410\n",
       "New Property         266\n",
       "5 out of 13          205\n",
       "7 out of 13          149\n",
       "6 out of 13          129\n",
       "                    ... \n",
       "Milestone Regalia      1\n",
       "15 out of 18           1\n",
       "17 out of 20           1\n",
       "15 out of 20           1\n",
       "1 out of 18            1\n",
       "Name: count, Length: 222, dtype: int64"
      ]
     },
     "execution_count": 16,
     "metadata": {},
     "output_type": "execute_result"
    }
   ],
   "source": [
    "surat.floor_info.value_counts()"
   ]
  },
  {
   "cell_type": "code",
   "execution_count": 17,
   "id": "dd674ad9-25cb-476f-8fda-3bb246106101",
   "metadata": {},
   "outputs": [
    {
     "name": "stdout",
     "output_type": "stream",
     "text": [
      "['Unfurnished' 'New Property' 'Resale' 'Ground out of 1'\n",
      " 'Lower Basement out of 7' 'Freehold' 'Upper Basement out of 5'\n",
      " 'Ground out of 2' 'Lower Basement out of 2' 'Ground out of 4' nan\n",
      " 'Ground out of 5' 'Ground out of 14' 'Ground out of 6' 'Ground out of 3'\n",
      " 'Upper Basement out of 4' 'Furnished' 'Congo' '3' 'Ground'\n",
      " 'Ground out of 10' '1' 'Upper Basement out of 14' '2' 'No'\n",
      " 'Ground out of 7' 'Yes' 'Lower Basement out of 59' 'Semi-Furnished'\n",
      " 'Lower Basement out of 4' 'Upper Basement out of 12'\n",
      " 'Upper Basement out of 1' 'Lower Basement out of 5' 'Ground out of 11'\n",
      " 'Other' 'Lower Basement out of 6' 'Ground out of 13' 'The Polaris Avenue'\n",
      " 'Co-operative Society' 'Lower Basement out of 14' 'Om Residency'\n",
      " 'Ground out of 8' 'Milestone Regalia' 'Lower Basement out of 1' '5'\n",
      " 'Upper Basement out of 3' 'Ground out of 12' 'Ground out of 19']\n"
     ]
    }
   ],
   "source": [
    "#Invalid entries\n",
    "invalid_floors = surat[~surat['floor_info'].str.contains(r'^\\d+\\s+out of\\s+\\d+$', case=False, na=False)]\n",
    "\n",
    "print(invalid_floors['floor_info'].unique())\n"
   ]
  },
  {
   "cell_type": "code",
   "execution_count": 18,
   "id": "105fff1f-55b0-4bf1-991b-a029fd3fdc5d",
   "metadata": {},
   "outputs": [],
   "source": [
    "import numpy as np\n",
    "\n",
    "#Extract floor number\n",
    "def extract_floor(val):\n",
    "    if pd.isna(val):\n",
    "        return np.nan\n",
    "    val = str(val).strip()\n",
    "    if \"Ground out of\" in val:\n",
    "        return 0\n",
    "    elif \"Upper Basement out of\" in val:\n",
    "        return -1\n",
    "    elif \"Lower Basement out of\" in val:\n",
    "        return -2\n",
    "    elif \"out of\" in val:\n",
    "        return int(val.split(\"out of\")[0].strip())\n",
    "    return np.nan\n",
    "\n",
    "#Extract max floor\n",
    "def extract_max_floors(val):\n",
    "    if pd.isna(val) or \"out of\" not in str(val):\n",
    "        return np.nan\n",
    "    return int(val.split(\"out of\")[1].strip())\n",
    "\n",
    "surat['max_floors'] = surat['floor_info'].apply(extract_max_floors)\n",
    "surat['floor_info'] = surat['floor_info'].apply(extract_floor)\n",
    "\n",
    "surat.dropna(subset=['floor_info'], inplace=True)"
   ]
  },
  {
   "cell_type": "code",
   "execution_count": 19,
   "id": "7e8f4d8c-a4c6-4a27-9861-8af8f8fdaccf",
   "metadata": {},
   "outputs": [
    {
     "name": "stdout",
     "output_type": "stream",
     "text": [
      "    floor_info  max_floors\n",
      "0          5.0        10.0\n",
      "1          6.0        14.0\n",
      "2          5.0        13.0\n",
      "3          6.0        14.0\n",
      "7          7.0        10.0\n",
      "9          3.0        14.0\n",
      "10         6.0        13.0\n",
      "11         1.0         1.0\n",
      "12         7.0        10.0\n",
      "13         1.0        13.0\n",
      "14         5.0        13.0\n",
      "15         4.0         7.0\n",
      "16         3.0         3.0\n",
      "17         2.0         6.0\n",
      "18         3.0         5.0\n"
     ]
    }
   ],
   "source": [
    "print(surat[['floor_info', 'max_floors']].head(15))"
   ]
  },
  {
   "cell_type": "code",
   "execution_count": 21,
   "id": "d2f98bcd-8148-43ff-aefb-41452f8e1acf",
   "metadata": {},
   "outputs": [
    {
     "data": {
      "text/plain": [
       "count    3561.000000\n",
       "mean        4.844426\n",
       "std         3.418054\n",
       "min        -2.000000\n",
       "25%         2.000000\n",
       "50%         5.000000\n",
       "75%         7.000000\n",
       "max        20.000000\n",
       "Name: floor_info, dtype: float64"
      ]
     },
     "execution_count": 21,
     "metadata": {},
     "output_type": "execute_result"
    }
   ],
   "source": [
    "surat.floor_info.describe()"
   ]
  },
  {
   "cell_type": "code",
   "execution_count": 25,
   "id": "f2232028-91c8-4498-a48c-8547fdf641ba",
   "metadata": {},
   "outputs": [
    {
     "data": {
      "text/html": [
       "<div>\n",
       "<style scoped>\n",
       "    .dataframe tbody tr th:only-of-type {\n",
       "        vertical-align: middle;\n",
       "    }\n",
       "\n",
       "    .dataframe tbody tr th {\n",
       "        vertical-align: top;\n",
       "    }\n",
       "\n",
       "    .dataframe thead th {\n",
       "        text-align: right;\n",
       "    }\n",
       "</style>\n",
       "<table border=\"1\" class=\"dataframe\">\n",
       "  <thead>\n",
       "    <tr style=\"text-align: right;\">\n",
       "      <th></th>\n",
       "      <th>property_name</th>\n",
       "      <th>area_type</th>\n",
       "      <th>square_feet</th>\n",
       "      <th>transaction</th>\n",
       "      <th>status</th>\n",
       "      <th>floor_info</th>\n",
       "      <th>furnishing</th>\n",
       "      <th>facing</th>\n",
       "      <th>description</th>\n",
       "      <th>price_per_sqft</th>\n",
       "      <th>price</th>\n",
       "      <th>max_floors</th>\n",
       "    </tr>\n",
       "  </thead>\n",
       "  <tbody>\n",
       "    <tr>\n",
       "      <th>0</th>\n",
       "      <td>2 BHK Apartment for Sale in Dindoli Surat</td>\n",
       "      <td>Carpet Area</td>\n",
       "      <td>644.0</td>\n",
       "      <td>New Property</td>\n",
       "      <td>Poss. by Oct '24</td>\n",
       "      <td>5.0</td>\n",
       "      <td>Unfurnished</td>\n",
       "      <td>West</td>\n",
       "      <td>Luxury project with basement parking, Solar ro...</td>\n",
       "      <td>2891.0</td>\n",
       "      <td>₹33.8 Lac</td>\n",
       "      <td>10.0</td>\n",
       "    </tr>\n",
       "    <tr>\n",
       "      <th>1</th>\n",
       "      <td>2 BHK Apartment for Sale in Althan Surat</td>\n",
       "      <td>Super Area</td>\n",
       "      <td>1278.0</td>\n",
       "      <td>New Property</td>\n",
       "      <td>Poss. by Jan '26</td>\n",
       "      <td>6.0</td>\n",
       "      <td>Unfurnished</td>\n",
       "      <td>South -West</td>\n",
       "      <td>2 And 3 BHK Luxurious Flat for Sell In New Alt...</td>\n",
       "      <td>3551.0</td>\n",
       "      <td>₹45.4 Lac</td>\n",
       "      <td>14.0</td>\n",
       "    </tr>\n",
       "    <tr>\n",
       "      <th>2</th>\n",
       "      <td>2 BHK Apartment for Sale in Pal Gam Surat</td>\n",
       "      <td>Super Area</td>\n",
       "      <td>1173.0</td>\n",
       "      <td>Resale</td>\n",
       "      <td>Ready to Move</td>\n",
       "      <td>5.0</td>\n",
       "      <td>Semi-Furnished</td>\n",
       "      <td>East</td>\n",
       "      <td>This affordable 2 BHK flat is situated along a...</td>\n",
       "      <td>3800.0</td>\n",
       "      <td>₹44.6 Lac</td>\n",
       "      <td>13.0</td>\n",
       "    </tr>\n",
       "    <tr>\n",
       "      <th>3</th>\n",
       "      <td>2 BHK Apartment for Sale in Jahangirabad Surat</td>\n",
       "      <td>Carpet Area</td>\n",
       "      <td>700.0</td>\n",
       "      <td>New Property</td>\n",
       "      <td>Ready to Move</td>\n",
       "      <td>6.0</td>\n",
       "      <td>Unfurnished</td>\n",
       "      <td>East</td>\n",
       "      <td>2 BHK Flat For sell IN Jahangirabad Prime Loca...</td>\n",
       "      <td>3966.0</td>\n",
       "      <td>₹47 Lac</td>\n",
       "      <td>14.0</td>\n",
       "    </tr>\n",
       "    <tr>\n",
       "      <th>7</th>\n",
       "      <td>Office Space for Sale in Vesu Surat</td>\n",
       "      <td>Carpet Area</td>\n",
       "      <td>700.0</td>\n",
       "      <td>New Property</td>\n",
       "      <td>Poss. by Sep '25</td>\n",
       "      <td>7.0</td>\n",
       "      <td>1</td>\n",
       "      <td>NaN</td>\n",
       "      <td>best commercial for business ,investors ,busin...</td>\n",
       "      <td>3392.0</td>\n",
       "      <td>₹44.1 Lac</td>\n",
       "      <td>10.0</td>\n",
       "    </tr>\n",
       "  </tbody>\n",
       "</table>\n",
       "</div>"
      ],
      "text/plain": [
       "                                    property_name    area_type  square_feet  \\\n",
       "0       2 BHK Apartment for Sale in Dindoli Surat  Carpet Area        644.0   \n",
       "1        2 BHK Apartment for Sale in Althan Surat   Super Area       1278.0   \n",
       "2       2 BHK Apartment for Sale in Pal Gam Surat   Super Area       1173.0   \n",
       "3  2 BHK Apartment for Sale in Jahangirabad Surat  Carpet Area        700.0   \n",
       "7             Office Space for Sale in Vesu Surat  Carpet Area        700.0   \n",
       "\n",
       "    transaction            status  floor_info      furnishing       facing  \\\n",
       "0  New Property  Poss. by Oct '24         5.0     Unfurnished         West   \n",
       "1  New Property  Poss. by Jan '26         6.0     Unfurnished  South -West   \n",
       "2        Resale     Ready to Move         5.0  Semi-Furnished         East   \n",
       "3  New Property     Ready to Move         6.0     Unfurnished         East   \n",
       "7  New Property  Poss. by Sep '25         7.0               1          NaN   \n",
       "\n",
       "                                         description  price_per_sqft  \\\n",
       "0  Luxury project with basement parking, Solar ro...          2891.0   \n",
       "1  2 And 3 BHK Luxurious Flat for Sell In New Alt...          3551.0   \n",
       "2  This affordable 2 BHK flat is situated along a...          3800.0   \n",
       "3  2 BHK Flat For sell IN Jahangirabad Prime Loca...          3966.0   \n",
       "7  best commercial for business ,investors ,busin...          3392.0   \n",
       "\n",
       "        price  max_floors  \n",
       "0  ₹33.8 Lac         10.0  \n",
       "1  ₹45.4 Lac         14.0  \n",
       "2  ₹44.6 Lac         13.0  \n",
       "3    ₹47 Lac         14.0  \n",
       "7  ₹44.1 Lac         10.0  "
      ]
     },
     "execution_count": 25,
     "metadata": {},
     "output_type": "execute_result"
    }
   ],
   "source": [
    "surat.head()"
   ]
  },
  {
   "cell_type": "code",
   "execution_count": 23,
   "id": "d5961ef2-a505-444e-a706-99beb576199e",
   "metadata": {},
   "outputs": [],
   "source": [
    "surat['price_per_sqft'] = surat['price_per_sqft'].str.replace('₹', '', regex=False)\n",
    "surat['price_per_sqft'] = surat['price_per_sqft'].str.replace('per sqft', '', regex=False)\n",
    "surat['price_per_sqft'] = surat['price_per_sqft'].str.replace(',', '', regex=False)\n",
    "surat['price_per_sqft'] = surat['price_per_sqft'].str.strip()\n",
    "\n",
    "surat['price_per_sqft'] = pd.to_numeric(surat['price_per_sqft'], errors='coerce')"
   ]
  },
  {
   "cell_type": "code",
   "execution_count": 24,
   "id": "3f26474a-6b15-4dde-be41-255ff81cfea0",
   "metadata": {},
   "outputs": [
    {
     "name": "stdout",
     "output_type": "stream",
     "text": [
      "0     2891.0\n",
      "1     3551.0\n",
      "2     3800.0\n",
      "3     3966.0\n",
      "7     3392.0\n",
      "9     3200.0\n",
      "10    3235.0\n",
      "11    2315.0\n",
      "12    3125.0\n",
      "13    5903.0\n",
      "Name: price_per_sqft, dtype: float64\n",
      "Datatype: float64\n"
     ]
    }
   ],
   "source": [
    "print(surat['price_per_sqft'].head(10))\n",
    "print(\"Datatype:\", surat['price_per_sqft'].dtype)"
   ]
  },
  {
   "cell_type": "code",
   "execution_count": 26,
   "id": "5d56e996-5ff4-4b82-ab70-d80e1d29ecc3",
   "metadata": {},
   "outputs": [],
   "source": [
    "def clean_price(value):\n",
    "    if pd.isna(value):\n",
    "        return np.nan\n",
    "    val = str(value).replace('₹', '').replace(',', '').strip()\n",
    "    if 'Lac' in val:\n",
    "        val = val.replace('Lac', '').strip()\n",
    "        return float(val) * 1e5\n",
    "    elif 'Cr' in val:\n",
    "        val = val.replace('Cr', '').strip()\n",
    "        return float(val) * 1e7\n",
    "    else:\n",
    "        try:\n",
    "            return float(val)\n",
    "        except:\n",
    "            return np.nan\n",
    "\n",
    "surat['price_num'] = surat['price'].apply(clean_price)"
   ]
  },
  {
   "cell_type": "code",
   "execution_count": 27,
   "id": "79ccbfde-6b37-40ca-aca9-109f37dfaed8",
   "metadata": {},
   "outputs": [
    {
     "name": "stdout",
     "output_type": "stream",
     "text": [
      "         price  price_num\n",
      "0   ₹33.8 Lac   3380000.0\n",
      "1   ₹45.4 Lac   4540000.0\n",
      "2   ₹44.6 Lac   4460000.0\n",
      "3     ₹47 Lac   4700000.0\n",
      "7   ₹44.1 Lac   4410000.0\n",
      "9     ₹40 Lac   4000000.0\n",
      "10    ₹44 Lac   4400000.0\n",
      "11  ₹12.5 Lac   1250000.0\n",
      "12    ₹50 Lac   5000000.0\n",
      "13    ₹50 Lac   5000000.0\n",
      "14  ₹35.8 Lac   3580000.0\n",
      "15    ₹45 Lac   4500000.0\n",
      "16  ₹26.5 Lac   2650000.0\n",
      "17    ₹42 Lac   4200000.0\n",
      "18    ₹43 Lac   4300000.0\n"
     ]
    }
   ],
   "source": [
    "print(surat[['price', 'price_num']].head(15))"
   ]
  },
  {
   "cell_type": "code",
   "execution_count": 28,
   "id": "4dad4258-288b-44c2-8993-96f04af7d268",
   "metadata": {},
   "outputs": [
    {
     "data": {
      "text/plain": [
       "property_name      object\n",
       "area_type          object\n",
       "square_feet       float64\n",
       "transaction        object\n",
       "status             object\n",
       "floor_info        float64\n",
       "furnishing         object\n",
       "facing             object\n",
       "description        object\n",
       "price_per_sqft    float64\n",
       "price              object\n",
       "max_floors        float64\n",
       "price_num         float64\n",
       "dtype: object"
      ]
     },
     "execution_count": 28,
     "metadata": {},
     "output_type": "execute_result"
    }
   ],
   "source": [
    "surat.dtypes"
   ]
  },
  {
   "cell_type": "code",
   "execution_count": 32,
   "id": "26af3ef2-dc30-4aad-b979-6afad34f3f66",
   "metadata": {},
   "outputs": [],
   "source": [
    "surat.rename(columns={'transaction': 'property_type'}, inplace=True)\n",
    "\n",
    "new_order = [\n",
    "    'property_name',\n",
    "    'area_type',\n",
    "    'property_type',\n",
    "    'status',\n",
    "    'furnishing',\n",
    "    'facing',\n",
    "    'description',\n",
    "    'price',          \n",
    "    'price_num',      \n",
    "    'square_feet',\n",
    "    'price_per_sqft',\n",
    "    'floor_info',\n",
    "    'max_floors'\n",
    "]\n",
    "\n",
    "surat = surat[new_order]"
   ]
  },
  {
   "cell_type": "code",
   "execution_count": 33,
   "id": "abea7551-61b4-4893-8be7-cd6299dbf2f7",
   "metadata": {},
   "outputs": [
    {
     "data": {
      "text/html": [
       "<div>\n",
       "<style scoped>\n",
       "    .dataframe tbody tr th:only-of-type {\n",
       "        vertical-align: middle;\n",
       "    }\n",
       "\n",
       "    .dataframe tbody tr th {\n",
       "        vertical-align: top;\n",
       "    }\n",
       "\n",
       "    .dataframe thead th {\n",
       "        text-align: right;\n",
       "    }\n",
       "</style>\n",
       "<table border=\"1\" class=\"dataframe\">\n",
       "  <thead>\n",
       "    <tr style=\"text-align: right;\">\n",
       "      <th></th>\n",
       "      <th>property_name</th>\n",
       "      <th>area_type</th>\n",
       "      <th>property_type</th>\n",
       "      <th>status</th>\n",
       "      <th>furnishing</th>\n",
       "      <th>facing</th>\n",
       "      <th>description</th>\n",
       "      <th>price</th>\n",
       "      <th>price_num</th>\n",
       "      <th>square_feet</th>\n",
       "      <th>price_per_sqft</th>\n",
       "      <th>floor_info</th>\n",
       "      <th>max_floors</th>\n",
       "    </tr>\n",
       "  </thead>\n",
       "  <tbody>\n",
       "    <tr>\n",
       "      <th>0</th>\n",
       "      <td>2 BHK Apartment for Sale in Dindoli Surat</td>\n",
       "      <td>Carpet Area</td>\n",
       "      <td>New Property</td>\n",
       "      <td>Poss. by Oct '24</td>\n",
       "      <td>Unfurnished</td>\n",
       "      <td>West</td>\n",
       "      <td>Luxury project with basement parking, Solar ro...</td>\n",
       "      <td>₹33.8 Lac</td>\n",
       "      <td>3380000.0</td>\n",
       "      <td>644.0</td>\n",
       "      <td>2891.0</td>\n",
       "      <td>5.0</td>\n",
       "      <td>10.0</td>\n",
       "    </tr>\n",
       "    <tr>\n",
       "      <th>1</th>\n",
       "      <td>2 BHK Apartment for Sale in Althan Surat</td>\n",
       "      <td>Super Area</td>\n",
       "      <td>New Property</td>\n",
       "      <td>Poss. by Jan '26</td>\n",
       "      <td>Unfurnished</td>\n",
       "      <td>South -West</td>\n",
       "      <td>2 And 3 BHK Luxurious Flat for Sell In New Alt...</td>\n",
       "      <td>₹45.4 Lac</td>\n",
       "      <td>4540000.0</td>\n",
       "      <td>1278.0</td>\n",
       "      <td>3551.0</td>\n",
       "      <td>6.0</td>\n",
       "      <td>14.0</td>\n",
       "    </tr>\n",
       "    <tr>\n",
       "      <th>2</th>\n",
       "      <td>2 BHK Apartment for Sale in Pal Gam Surat</td>\n",
       "      <td>Super Area</td>\n",
       "      <td>Resale</td>\n",
       "      <td>Ready to Move</td>\n",
       "      <td>Semi-Furnished</td>\n",
       "      <td>East</td>\n",
       "      <td>This affordable 2 BHK flat is situated along a...</td>\n",
       "      <td>₹44.6 Lac</td>\n",
       "      <td>4460000.0</td>\n",
       "      <td>1173.0</td>\n",
       "      <td>3800.0</td>\n",
       "      <td>5.0</td>\n",
       "      <td>13.0</td>\n",
       "    </tr>\n",
       "    <tr>\n",
       "      <th>3</th>\n",
       "      <td>2 BHK Apartment for Sale in Jahangirabad Surat</td>\n",
       "      <td>Carpet Area</td>\n",
       "      <td>New Property</td>\n",
       "      <td>Ready to Move</td>\n",
       "      <td>Unfurnished</td>\n",
       "      <td>East</td>\n",
       "      <td>2 BHK Flat For sell IN Jahangirabad Prime Loca...</td>\n",
       "      <td>₹47 Lac</td>\n",
       "      <td>4700000.0</td>\n",
       "      <td>700.0</td>\n",
       "      <td>3966.0</td>\n",
       "      <td>6.0</td>\n",
       "      <td>14.0</td>\n",
       "    </tr>\n",
       "    <tr>\n",
       "      <th>7</th>\n",
       "      <td>Office Space for Sale in Vesu Surat</td>\n",
       "      <td>Carpet Area</td>\n",
       "      <td>New Property</td>\n",
       "      <td>Poss. by Sep '25</td>\n",
       "      <td>1</td>\n",
       "      <td>NaN</td>\n",
       "      <td>best commercial for business ,investors ,busin...</td>\n",
       "      <td>₹44.1 Lac</td>\n",
       "      <td>4410000.0</td>\n",
       "      <td>700.0</td>\n",
       "      <td>3392.0</td>\n",
       "      <td>7.0</td>\n",
       "      <td>10.0</td>\n",
       "    </tr>\n",
       "  </tbody>\n",
       "</table>\n",
       "</div>"
      ],
      "text/plain": [
       "                                    property_name    area_type property_type  \\\n",
       "0       2 BHK Apartment for Sale in Dindoli Surat  Carpet Area  New Property   \n",
       "1        2 BHK Apartment for Sale in Althan Surat   Super Area  New Property   \n",
       "2       2 BHK Apartment for Sale in Pal Gam Surat   Super Area        Resale   \n",
       "3  2 BHK Apartment for Sale in Jahangirabad Surat  Carpet Area  New Property   \n",
       "7             Office Space for Sale in Vesu Surat  Carpet Area  New Property   \n",
       "\n",
       "             status      furnishing       facing  \\\n",
       "0  Poss. by Oct '24     Unfurnished         West   \n",
       "1  Poss. by Jan '26     Unfurnished  South -West   \n",
       "2     Ready to Move  Semi-Furnished         East   \n",
       "3     Ready to Move     Unfurnished         East   \n",
       "7  Poss. by Sep '25               1          NaN   \n",
       "\n",
       "                                         description       price  price_num  \\\n",
       "0  Luxury project with basement parking, Solar ro...  ₹33.8 Lac   3380000.0   \n",
       "1  2 And 3 BHK Luxurious Flat for Sell In New Alt...  ₹45.4 Lac   4540000.0   \n",
       "2  This affordable 2 BHK flat is situated along a...  ₹44.6 Lac   4460000.0   \n",
       "3  2 BHK Flat For sell IN Jahangirabad Prime Loca...    ₹47 Lac   4700000.0   \n",
       "7  best commercial for business ,investors ,busin...  ₹44.1 Lac   4410000.0   \n",
       "\n",
       "   square_feet  price_per_sqft  floor_info  max_floors  \n",
       "0        644.0          2891.0         5.0        10.0  \n",
       "1       1278.0          3551.0         6.0        14.0  \n",
       "2       1173.0          3800.0         5.0        13.0  \n",
       "3        700.0          3966.0         6.0        14.0  \n",
       "7        700.0          3392.0         7.0        10.0  "
      ]
     },
     "execution_count": 33,
     "metadata": {},
     "output_type": "execute_result"
    }
   ],
   "source": [
    "surat.head()"
   ]
  },
  {
   "cell_type": "code",
   "execution_count": 41,
   "id": "d840af2f-400d-4e4d-96bc-1598c77c13ec",
   "metadata": {},
   "outputs": [
    {
     "data": {
      "text/plain": [
       "area_type\n",
       "Super Area     2235\n",
       "Carpet Area    1326\n",
       "Name: count, dtype: int64"
      ]
     },
     "execution_count": 41,
     "metadata": {},
     "output_type": "execute_result"
    }
   ],
   "source": [
    "surat.area_type.value_counts()"
   ]
  },
  {
   "cell_type": "code",
   "execution_count": 43,
   "id": "ee3fb48a-e4e0-46cd-8109-fb35f4afc91d",
   "metadata": {},
   "outputs": [
    {
     "data": {
      "text/plain": [
       "property_name        0\n",
       "area_type            0\n",
       "property_type        0\n",
       "status               0\n",
       "furnishing         167\n",
       "facing             316\n",
       "description       1074\n",
       "price                0\n",
       "price_num          155\n",
       "square_feet         87\n",
       "price_per_sqft     273\n",
       "floor_info           0\n",
       "max_floors           0\n",
       "dtype: int64"
      ]
     },
     "execution_count": 43,
     "metadata": {},
     "output_type": "execute_result"
    }
   ],
   "source": [
    "surat.isna().sum()"
   ]
  },
  {
   "cell_type": "code",
   "execution_count": 44,
   "id": "eaec8328-feb4-41fb-bbc1-75842b50cc04",
   "metadata": {},
   "outputs": [
    {
     "data": {
      "text/plain": [
       "furnishing\n",
       "Unfurnished                2286\n",
       "Semi-Furnished              475\n",
       "Furnished                   443\n",
       "1                            83\n",
       "1 Covered                    24\n",
       "2                            17\n",
       "1 Open                       14\n",
       "2 Covered                     8\n",
       "3                             7\n",
       "1 Covered,                    6\n",
       "2 Covered,                    5\n",
       "4                             4\n",
       "2 Open                        3\n",
       "> 10                          2\n",
       "3 Covered                     2\n",
       "6                             2\n",
       "100 Covered                   2\n",
       "20 Open                       1\n",
       "50 Open                       1\n",
       "West                          1\n",
       "5 Covered                     1\n",
       "Vinayak Enclave               1\n",
       "Vaishnodevi Ideal Homes       1\n",
       "50 Covered,                   1\n",
       "5 Covered,                    1\n",
       "10 Open                       1\n",
       "26 Covered                    1\n",
       "10 Covered,                   1\n",
       "Name: count, dtype: int64"
      ]
     },
     "execution_count": 44,
     "metadata": {},
     "output_type": "execute_result"
    }
   ],
   "source": [
    "surat.furnishing.value_counts()"
   ]
  },
  {
   "cell_type": "code",
   "execution_count": 45,
   "id": "5f31488f-38e3-413d-bee4-cfd34537d5a8",
   "metadata": {},
   "outputs": [],
   "source": [
    "valid_furnishings = ['Unfurnished', 'Semi-Furnished', 'Furnished']\n",
    "surat = surat[surat['furnishing'].isin(valid_furnishings)]"
   ]
  },
  {
   "cell_type": "code",
   "execution_count": 46,
   "id": "91a78d66-17cb-49b3-9985-c4bfce8f7a6d",
   "metadata": {},
   "outputs": [
    {
     "data": {
      "text/plain": [
       "furnishing\n",
       "Unfurnished       2286\n",
       "Semi-Furnished     475\n",
       "Furnished          443\n",
       "Name: count, dtype: int64"
      ]
     },
     "execution_count": 46,
     "metadata": {},
     "output_type": "execute_result"
    }
   ],
   "source": [
    "surat.furnishing.value_counts()"
   ]
  },
  {
   "cell_type": "code",
   "execution_count": 47,
   "id": "3bb7839d-a93a-45a6-befa-afcef4a33d82",
   "metadata": {},
   "outputs": [
    {
     "data": {
      "text/plain": [
       "property_name       0\n",
       "area_type           0\n",
       "property_type       0\n",
       "status              0\n",
       "furnishing          0\n",
       "facing              0\n",
       "description       921\n",
       "price               0\n",
       "price_num         145\n",
       "square_feet        83\n",
       "price_per_sqft    253\n",
       "floor_info          0\n",
       "max_floors          0\n",
       "dtype: int64"
      ]
     },
     "execution_count": 47,
     "metadata": {},
     "output_type": "execute_result"
    }
   ],
   "source": [
    "surat.isna().sum()"
   ]
  },
  {
   "cell_type": "code",
   "execution_count": 48,
   "id": "d99aac40-dcda-477f-9602-283033893cf1",
   "metadata": {},
   "outputs": [
    {
     "data": {
      "text/plain": [
       "facing\n",
       "East                           1463\n",
       "South -West                     351\n",
       "North - East                    233\n",
       "2                               226\n",
       "1                               182\n",
       "                               ... \n",
       "Green Arcade Phase 1 And 2        1\n",
       "Satyam Tower                      1\n",
       "Maa Krupa Residency Society       1\n",
       "Global City                       1\n",
       "Vesu Point                        1\n",
       "Name: count, Length: 148, dtype: int64"
      ]
     },
     "execution_count": 48,
     "metadata": {},
     "output_type": "execute_result"
    }
   ],
   "source": [
    "surat.facing.value_counts()"
   ]
  },
  {
   "cell_type": "code",
   "execution_count": 49,
   "id": "b8129b8d-7ff5-4a14-a9f2-8b6c1e0e60d1",
   "metadata": {},
   "outputs": [],
   "source": [
    "valid_facings = [\n",
    "    'East', 'West', 'North', 'South',\n",
    "    'North - East', 'North - West',\n",
    "    'South - East', 'South - West'\n",
    "]\n",
    "\n",
    "\n",
    "surat = surat[surat['facing'].isin(valid_facings)]"
   ]
  },
  {
   "cell_type": "code",
   "execution_count": 50,
   "id": "6ead8cd6-e6d4-419c-89db-e94780aeb3b5",
   "metadata": {},
   "outputs": [
    {
     "data": {
      "text/plain": [
       "facing\n",
       "East            1463\n",
       "North - East     233\n",
       "North             97\n",
       "West              90\n",
       "South - East      55\n",
       "South             35\n",
       "North - West      25\n",
       "Name: count, dtype: int64"
      ]
     },
     "execution_count": 50,
     "metadata": {},
     "output_type": "execute_result"
    }
   ],
   "source": [
    "surat.facing.value_counts()"
   ]
  },
  {
   "cell_type": "code",
   "execution_count": 51,
   "id": "93f71903-5d16-4cac-a706-ff787e96dfc3",
   "metadata": {},
   "outputs": [
    {
     "name": "stdout",
     "output_type": "stream",
     "text": [
      "Number of 'Call for Price' entries: 41\n"
     ]
    }
   ],
   "source": [
    "call_for_price_count = (surat['price'] == 'Call for Price').sum()\n",
    "\n",
    "print(\"Number of 'Call for Price' entries:\", call_for_price_count)"
   ]
  },
  {
   "cell_type": "code",
   "execution_count": 52,
   "id": "6cc09351-0e35-4d7a-b6d4-ddb3f185f7aa",
   "metadata": {},
   "outputs": [],
   "source": [
    "surat = surat[surat['price'] != 'Call for Price']"
   ]
  },
  {
   "cell_type": "code",
   "execution_count": 53,
   "id": "2b343c9e-b795-4e2c-a623-206db46e833b",
   "metadata": {},
   "outputs": [
    {
     "data": {
      "text/plain": [
       "property_name       0\n",
       "area_type           0\n",
       "property_type       0\n",
       "status              0\n",
       "furnishing          0\n",
       "facing              0\n",
       "description       344\n",
       "price               0\n",
       "price_num           0\n",
       "square_feet        46\n",
       "price_per_sqft     48\n",
       "floor_info          0\n",
       "max_floors          0\n",
       "dtype: int64"
      ]
     },
     "execution_count": 53,
     "metadata": {},
     "output_type": "execute_result"
    }
   ],
   "source": [
    "surat.isna().sum()"
   ]
  },
  {
   "cell_type": "code",
   "execution_count": 54,
   "id": "604dca61-9f6e-428e-91ba-e4843fcb40f9",
   "metadata": {},
   "outputs": [],
   "source": [
    "# If square_feet is NaN but both price_num and price_per_sqft exist, fill it.\n",
    "mask_sqft_na = surat['square_feet'].isna()\n",
    "mask_have_both_for_sqft = mask_sqft_na & surat['price_num'].notna() & surat['price_per_sqft'].notna()\n",
    "\n",
    "surat.loc[mask_have_both_for_sqft, 'square_feet'] = (\n",
    "    surat.loc[mask_have_both_for_sqft, 'price_num'] / surat.loc[mask_have_both_for_sqft, 'price_per_sqft']\n",
    ")\n",
    "\n",
    "# Drop any rows where square_feet is still NaN\n",
    "surat = surat[~surat['square_feet'].isna()]"
   ]
  },
  {
   "cell_type": "code",
   "execution_count": 55,
   "id": "077b90b2-a82a-49b6-85b3-19c0418013f9",
   "metadata": {},
   "outputs": [],
   "source": [
    "# If price_per_sqft is NaN but both price_num and square_feet exist, fill it.\n",
    "mask_ppsf_na = surat['price_per_sqft'].isna()\n",
    "mask_have_both_for_ppsf = mask_ppsf_na & surat['square_feet'].notna() & surat['price_num'].notna()\n",
    "\n",
    "surat.loc[mask_have_both_for_ppsf, 'price_per_sqft'] = (\n",
    "    surat.loc[mask_have_both_for_ppsf, 'price_num'] / surat.loc[mask_have_both_for_ppsf, 'square_feet']\n",
    ")\n",
    "\n",
    "# Drop any rows where price_per_sqft is still NaN\n",
    "surat = surat[~surat['price_per_sqft'].isna()]"
   ]
  },
  {
   "cell_type": "code",
   "execution_count": 56,
   "id": "6689d30d-2a91-4959-8cf6-0d166bec9f90",
   "metadata": {},
   "outputs": [
    {
     "name": "stdout",
     "output_type": "stream",
     "text": [
      "Missing square_feet: 0\n",
      "Missing price_per_sqft: 0\n",
      "Final shape: (1953, 13)\n"
     ]
    }
   ],
   "source": [
    "print(\"Missing square_feet:\", surat['square_feet'].isna().sum())\n",
    "print(\"Missing price_per_sqft:\", surat['price_per_sqft'].isna().sum())\n",
    "print(\"Final shape:\", surat.shape)"
   ]
  },
  {
   "cell_type": "code",
   "execution_count": 57,
   "id": "6576bf32-9095-4204-8326-03acb224cc1f",
   "metadata": {},
   "outputs": [
    {
     "data": {
      "text/plain": [
       "property_name       0\n",
       "area_type           0\n",
       "property_type       0\n",
       "status              0\n",
       "furnishing          0\n",
       "facing              0\n",
       "description       344\n",
       "price               0\n",
       "price_num           0\n",
       "square_feet         0\n",
       "price_per_sqft      0\n",
       "floor_info          0\n",
       "max_floors          0\n",
       "dtype: int64"
      ]
     },
     "execution_count": 57,
     "metadata": {},
     "output_type": "execute_result"
    }
   ],
   "source": [
    "surat.isna().sum()"
   ]
  },
  {
   "cell_type": "code",
   "execution_count": 58,
   "id": "47f09daa-fe01-48c4-b6d2-c6c63c489f15",
   "metadata": {},
   "outputs": [],
   "source": [
    "#Final check for outliers using box plots"
   ]
  },
  {
   "cell_type": "code",
   "execution_count": 59,
   "id": "09494043-f934-463c-9999-e7be68430847",
   "metadata": {},
   "outputs": [
    {
     "data": {
      "image/png": "[encoded data removed]",
      "text/plain": [
       "<Figure size 1200x600 with 1 Axes>"
      ]
     },
     "metadata": {},
     "output_type": "display_data"
    }
   ],
   "source": [
    "import matplotlib.pyplot as plt\n",
    "\n",
    "num_cols = ['price_num', 'square_feet', 'price_per_sqft']\n",
    "\n",
    "plt.figure(figsize=(12, 6))\n",
    "surat[num_cols].boxplot()\n",
    "plt.title(\"Boxplot of Price, Square Feet, and Price per Sqft\")\n",
    "plt.ylabel(\"Values\")\n",
    "plt.xticks(rotation=0)\n",
    "plt.show()"
   ]
  },
  {
   "cell_type": "code",
   "execution_count": 64,
   "id": "e2f747a2-93b9-4a4d-8254-d33b84588bfc",
   "metadata": {},
   "outputs": [
    {
     "data": {
      "text/plain": [
       "count     1917.000000\n",
       "mean      1949.343178\n",
       "std       1339.430547\n",
       "min        500.000000\n",
       "25%       1125.000000\n",
       "50%       1595.000000\n",
       "75%       2350.000000\n",
       "max      11250.000000\n",
       "Name: square_feet, dtype: float64"
      ]
     },
     "execution_count": 64,
     "metadata": {},
     "output_type": "execute_result"
    }
   ],
   "source": [
    "surat.square_feet.describe()"
   ]
  },
  {
   "cell_type": "code",
   "execution_count": 63,
   "id": "8eb73cce-0a71-4725-8f44-5e57a6634e0e",
   "metadata": {},
   "outputs": [
    {
     "name": "stdout",
     "output_type": "stream",
     "text": [
      "New minimum square_feet: 500.0\n",
      "Dataset shape after dropping: (1917, 13)\n"
     ]
    }
   ],
   "source": [
    "surat = surat[surat['square_feet'] >= 500]\n",
    "\n",
    "print(\"New minimum square_feet:\", surat['square_feet'].min())\n",
    "print(\"Dataset shape after dropping:\", surat.shape)"
   ]
  },
  {
   "cell_type": "code",
   "execution_count": 65,
   "id": "01c80f6c-4316-49ed-9708-7d9ca2495414",
   "metadata": {},
   "outputs": [
    {
     "data": {
      "text/plain": [
       "count      1917.000000\n",
       "mean       5144.234497\n",
       "std        3678.874861\n",
       "min        1167.000000\n",
       "25%        3843.000000\n",
       "50%        4661.000000\n",
       "75%        5751.000000\n",
       "max      125000.000000\n",
       "Name: price_per_sqft, dtype: float64"
      ]
     },
     "execution_count": 65,
     "metadata": {},
     "output_type": "execute_result"
    }
   ],
   "source": [
    "surat.price_per_sqft.describe()"
   ]
  },
  {
   "cell_type": "code",
   "execution_count": 69,
   "id": "c3f9d51a-6e4a-40b5-b423-aa753a8030ac",
   "metadata": {},
   "outputs": [
    {
     "name": "stdout",
     "output_type": "stream",
     "text": [
      "Second highest price_per_sqft: 26455.0\n"
     ]
    }
   ],
   "source": [
    "second_highest = surat['price_per_sqft'].sort_values(ascending=False).iloc[4]\n",
    "\n",
    "print(\"Second highest price_per_sqft:\", second_highest)"
   ]
  },
  {
   "cell_type": "code",
   "execution_count": 70,
   "id": "71ad74c8-7c32-4b6a-9cfc-d47308cf2558",
   "metadata": {},
   "outputs": [
    {
     "name": "stdout",
     "output_type": "stream",
     "text": [
      "                                          property_name  square_feet  \\\n",
      "13             2 BHK Apartment for Sale in Adajan Surat        847.0   \n",
      "82        2 BHK Apartment for Sale in Kamrej Road Surat        783.0   \n",
      "242              3 BHK  House for Sale in Dindoli Surat        532.0   \n",
      "396   2 BHK  House for Sale in Varachha Main Road Surat        578.0   \n",
      "499               2 BHK  House for Sale in Kamrej Surat        520.0   \n",
      "...                                                 ...          ...   \n",
      "4513  4 BHK Apartment for Sale in Sangini Siddhanta,...       4000.0   \n",
      "4514  4 BHK Apartment for Sale in Millionaires Lifes...       3500.0   \n",
      "4515  4 BHK Apartment for Sale in Happy Astoria, Ves...       3000.0   \n",
      "4516  3 BHK Apartment for Sale in Samprati Palace, V...       2620.0   \n",
      "4517  4 BHK Apartment for Sale in Samprati Palace, V...       3400.0   \n",
      "\n",
      "          price   price_num  price_per_sqft  \n",
      "13     ₹50 Lac    5000000.0     5903.000000  \n",
      "82     ₹50 Lac    5000000.0     6385.696041  \n",
      "242    ₹33 Lac    3300000.0     6203.000000  \n",
      "396    ₹50 Lac    5000000.0     8636.000000  \n",
      "499    ₹31 Lac    3100000.0     5962.000000  \n",
      "...         ...         ...             ...  \n",
      "4513  ₹3.20 Cr   32000000.0     8000.000000  \n",
      "4514  ₹2.27 Cr   22700000.0     6500.000000  \n",
      "4515  ₹1.86 Cr   18600000.0     6200.000000  \n",
      "4516  ₹1.58 Cr   15800000.0     6031.000000  \n",
      "4517  ₹2.04 Cr   20400000.0     6000.000000  \n",
      "\n",
      "[479 rows x 5 columns]\n",
      "\n",
      "Number of properties with price_per_sqft > 5751: 479\n"
     ]
    }
   ],
   "source": [
    "\n",
    "high_ppsf = surat[surat['price_per_sqft'] > 5751]\n",
    "\n",
    "\n",
    "print(high_ppsf[['property_name', 'square_feet', 'price', 'price_num', 'price_per_sqft']])\n",
    "\n",
    "\n",
    "print(\"\\nNumber of properties with price_per_sqft > 5751:\", high_ppsf.shape[0])"
   ]
  },
  {
   "cell_type": "code",
   "execution_count": 71,
   "id": "ded790c8-88eb-4c92-94f4-1e141b8a8551",
   "metadata": {},
   "outputs": [
    {
     "name": "stdout",
     "output_type": "stream",
     "text": [
      "99th percentile cutoff for price_per_sqft: 13352.645714285702\n",
      "New max price_per_sqft: 13214.285714285714\n",
      "Dataset shape after removing outliers: (1897, 13)\n"
     ]
    }
   ],
   "source": [
    "upper_limit = surat['price_per_sqft'].quantile(0.99)\n",
    "\n",
    "\n",
    "surat = surat[surat['price_per_sqft'] <= upper_limit]\n",
    "\n",
    "\n",
    "print(\"99th percentile cutoff for price_per_sqft:\", upper_limit)\n",
    "print(\"New max price_per_sqft:\", surat['price_per_sqft'].max())\n",
    "print(\"Dataset shape after removing outliers:\", surat.shape)"
   ]
  },
  {
   "cell_type": "code",
   "execution_count": 72,
   "id": "11172e58-1d1d-4cd4-8a3f-aab58debd3d3",
   "metadata": {},
   "outputs": [
    {
     "data": {
      "text/plain": [
       "count     1897.000000\n",
       "mean      4926.616516\n",
       "std       1651.812428\n",
       "min       1167.000000\n",
       "25%       3837.000000\n",
       "50%       4641.000000\n",
       "75%       5700.000000\n",
       "max      13214.285714\n",
       "Name: price_per_sqft, dtype: float64"
      ]
     },
     "execution_count": 72,
     "metadata": {},
     "output_type": "execute_result"
    }
   ],
   "source": [
    "surat.price_per_sqft.describe()"
   ]
  },
  {
   "cell_type": "code",
   "execution_count": 73,
   "id": "291f6bf8-9b43-4d89-8ede-5f6e9650197c",
   "metadata": {},
   "outputs": [],
   "source": [
    "surat.to_csv(\"surat_final_cleaned.csv\", index=False)"
   ]
  },
  {
   "cell_type": "code",
   "execution_count": null,
   "id": "f30ba8b1-3328-42bc-9301-789d1c35d731",
   "metadata": {},
   "outputs": [],
   "source": []
  }
 ],
 "metadata": {
  "kernelspec": {
   "display_name": "Python 3 (ipykernel)",
   "language": "python",
   "name": "python3"
  },
  "language_info": {
   "codemirror_mode": {
    "name": "ipython",
    "version": 3
   },
   "file_extension": ".py",
   "mimetype": "text/x-python",
   "name": "python",
   "nbconvert_exporter": "python",
   "pygments_lexer": "ipython3",
   "version": "3.12.7"
  }
 },
 "nbformat": 4,
 "nbformat_minor": 5
}
