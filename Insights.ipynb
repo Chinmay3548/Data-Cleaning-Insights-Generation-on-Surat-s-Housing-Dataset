{
 "cells": [
  {
   "cell_type": "code",
   "execution_count": 1,
   "id": "8fe6110b-055a-4996-8df7-5e99a2cad0c4",
   "metadata": {},
   "outputs": [],
   "source": [
    "import pandas as pd\n",
    "\n",
    "df = pd.read_csv(\"surat_final_cleaned.csv\")"
   ]
  },
  {
   "cell_type": "markdown",
   "id": "609f2501-d6d9-4455-b360-b18925510633",
   "metadata": {},
   "source": [
    "Pricing & Size Trends"
   ]
  },
  {
   "cell_type": "code",
   "execution_count": 2,
   "id": "a69fe098-b18e-4839-80ec-e5b15ddb8f07",
   "metadata": {},
   "outputs": [],
   "source": [
    "#Average price per square foot in Surat\n",
    "\n",
    "avg_price_per_sqft = df[\"price_per_sqft\"].mean()"
   ]
  },
  {
   "cell_type": "code",
   "execution_count": 3,
   "id": "65529f57-4357-4629-a29a-20abf43d4dd4",
   "metadata": {},
   "outputs": [
    {
     "data": {
      "text/plain": [
       "4926.616515953723"
      ]
     },
     "execution_count": 3,
     "metadata": {},
     "output_type": "execute_result"
    }
   ],
   "source": [
    "avg_price_per_sqft"
   ]
  },
  {
   "cell_type": "code",
   "execution_count": 4,
   "id": "99cc231b-4642-4988-b91d-7d55cd4e9188",
   "metadata": {},
   "outputs": [],
   "source": [
    "#Highest/lowest average price per sqft by locality\n",
    "\n",
    "df[\"locality\"] = df[\"property_name\"].str.extract(r\"in (.+?) Surat\")\n",
    "\n",
    "locality_avg_pps = (\n",
    "    df.dropna(subset=[\"locality\"])\n",
    "      .groupby(\"locality\", as_index=True)[\"price_per_sqft\"]\n",
    "      .mean()\n",
    "      .sort_values(ascending=False)\n",
    ")"
   ]
  },
  {
   "cell_type": "code",
   "execution_count": 6,
   "id": "b2356bde-a934-4bb7-abeb-82ffa288f09a",
   "metadata": {},
   "outputs": [
    {
     "data": {
      "text/plain": [
       "locality\n",
       "Kawasji Nagar                    12963.000000\n",
       "Pankaj nagar                     12222.000000\n",
       "Aman Nagar                       11299.000000\n",
       "Shiv Shakti Row House, Adajan    10998.000000\n",
       "Parle Point                      10625.000000\n",
       "Deladva Gam                      10476.000000\n",
       "Pioneer Viona, Bhimrad           10369.000000\n",
       "Ravani Dream Palace, Vesu        10074.000000\n",
       "Bhagal                           10000.000000\n",
       "Avadh Classima, Rundh             9797.333333\n",
       "Name: price_per_sqft, dtype: float64"
      ]
     },
     "execution_count": 6,
     "metadata": {},
     "output_type": "execute_result"
    }
   ],
   "source": [
    "top10_localities = locality_avg_pps.head(10)\n",
    "top10_localities"
   ]
  },
  {
   "cell_type": "code",
   "execution_count": 7,
   "id": "ba725e2c-a8e2-46e0-9f08-48f71c4ba480",
   "metadata": {},
   "outputs": [
    {
     "data": {
      "text/plain": [
       "locality\n",
       "Devadh                                        2347.0\n",
       "Kadodara                                      2346.0\n",
       "Bhakti Shiv Dhara Residency, Mota Varachha    2344.0\n",
       "Hari Pura                                     2250.0\n",
       "Navagam                                       2160.0\n",
       "Chalthan                                      2118.0\n",
       "Pasodara                                      2027.0\n",
       "Mandvi                                        1620.0\n",
       "Jolva                                         1532.0\n",
       "Bardoli                                       1375.0\n",
       "Name: price_per_sqft, dtype: float64"
      ]
     },
     "execution_count": 7,
     "metadata": {},
     "output_type": "execute_result"
    }
   ],
   "source": [
    "bottom10_localities = locality_avg_pps.tail(10)\n",
    "bottom10_localities"
   ]
  },
  {
   "cell_type": "code",
   "execution_count": 8,
   "id": "c6c704b7-3936-4f97-92a2-8e7a4f0c5253",
   "metadata": {},
   "outputs": [],
   "source": [
    "#Correlation between size and price per sqft\n",
    "\n",
    "corr_sqft_vs_pps = df[\"square_feet\"].corr(df[\"price_per_sqft\"])"
   ]
  },
  {
   "cell_type": "code",
   "execution_count": 9,
   "id": "b5348b3f-2cf5-4bc9-9ef2-256970f33a85",
   "metadata": {},
   "outputs": [
    {
     "name": "stdout",
     "output_type": "stream",
     "text": [
      "\n",
      "Correlation (square_feet vs price_per_sqft): 0.556\n"
     ]
    }
   ],
   "source": [
    "print(f\"\\nCorrelation (square_feet vs price_per_sqft): {corr_sqft_vs_pps:.3f}\")"
   ]
  },
  {
   "cell_type": "code",
   "execution_count": null,
   "id": "c7467aa7-0c48-434d-a756-1ce8e4303025",
   "metadata": {},
   "outputs": [],
   "source": []
  },
  {
   "cell_type": "markdown",
   "id": "2cee1e63-ca62-4106-87a5-fb82cecf2ce7",
   "metadata": {},
   "source": [
    "Property Type Insights"
   ]
  },
  {
   "cell_type": "code",
   "execution_count": 10,
   "id": "cd099b6c-a22b-47bc-84b5-63e9936e5f31",
   "metadata": {},
   "outputs": [
    {
     "name": "stdout",
     "output_type": "stream",
     "text": [
      "Average Price per sqft by Property Type:\n",
      "property_type\n",
      "New Property    5185.706391\n",
      "Resale          4577.422365\n"
     ]
    }
   ],
   "source": [
    "#Do new properties cost more per sqft than resale ones?\n",
    "\n",
    "avg_by_property_type = df.groupby(\"property_type\")[\"price_per_sqft\"].mean()\n",
    "\n",
    "print(\"Average Price per sqft by Property Type:\")\n",
    "print(avg_by_property_type.to_string())"
   ]
  },
  {
   "cell_type": "code",
   "execution_count": 13,
   "id": "b2972ea0-b4d3-4b49-aa7a-4aabaf5b7e6e",
   "metadata": {},
   "outputs": [
    {
     "name": "stdout",
     "output_type": "stream",
     "text": [
      "\n",
      "Average Price per sqft by Area Type:\n",
      "area_type\n",
      "Carpet Area    4789.455627\n",
      "Super Area     5014.927210\n"
     ]
    }
   ],
   "source": [
    "# How does area_type (Carpet vs Super) impact the average price?\n",
    "\n",
    "avg_by_area_type = df.groupby(\"area_type\")[\"price_per_sqft\"].mean()\n",
    "\n",
    "print(\"\\nAverage Price per sqft by Area Type:\")\n",
    "print(avg_by_area_type.to_string())"
   ]
  },
  {
   "cell_type": "code",
   "execution_count": null,
   "id": "57c1ec85-ac3e-4427-92e3-b41a75396747",
   "metadata": {},
   "outputs": [],
   "source": []
  },
  {
   "cell_type": "markdown",
   "id": "750940f3-d9e4-4438-8ca0-d3b319d3dedf",
   "metadata": {},
   "source": [
    "Project Status"
   ]
  },
  {
   "cell_type": "code",
   "execution_count": 14,
   "id": "2b6c4b1e-cd90-4090-a35f-0df776d5bffa",
   "metadata": {},
   "outputs": [
    {
     "name": "stdout",
     "output_type": "stream",
     "text": [
      "Average Price per sqft by Project Status:\n",
      "status_group\n",
      "Ready to Move         4761.966099\n",
      "Under Construction    5205.633487\n"
     ]
    }
   ],
   "source": [
    "# Are Ready to Move properties more expensive than Under Construction ones?\n",
    "\n",
    "df[\"status_clean\"] = df[\"status\"].str.lower()\n",
    "\n",
    "df[\"status_group\"] = df[\"status_clean\"].apply(\n",
    "    lambda x: \"Ready to Move\" if \"ready\" in x \n",
    "              else (\"Under Construction\" if \"poss\" in x or \"construction\" in x else \"Other\")\n",
    ")\n",
    "\n",
    "avg_by_status = df.groupby(\"status_group\")[\"price_per_sqft\"].mean()\n",
    "\n",
    "print(\"Average Price per sqft by Project Status:\")\n",
    "print(avg_by_status.to_string())"
   ]
  },
  {
   "cell_type": "code",
   "execution_count": 15,
   "id": "04f404d0-9e84-4ecd-95cf-d06992518b3a",
   "metadata": {},
   "outputs": [
    {
     "name": "stdout",
     "output_type": "stream",
     "text": [
      "\n",
      "Market Share of Project Statuses (in %):\n",
      "status_group\n",
      "Ready to Move         62.89\n",
      "Under Construction    37.11\n"
     ]
    }
   ],
   "source": [
    "#Which project statuses dominate the Surat housing market?\n",
    "\n",
    "status_counts = df[\"status_group\"].value_counts(normalize=True) * 100\n",
    "\n",
    "print(\"\\nMarket Share of Project Statuses (in %):\")\n",
    "print(status_counts.round(2).to_string())"
   ]
  },
  {
   "cell_type": "code",
   "execution_count": null,
   "id": "9067f9a3-69bf-4cfd-9edd-6265ab96abdb",
   "metadata": {},
   "outputs": [],
   "source": []
  },
  {
   "cell_type": "markdown",
   "id": "4f7942b1-b9e6-4359-aa5b-de8faecd6f3b",
   "metadata": {},
   "source": [
    "Furnishing Trends"
   ]
  },
  {
   "cell_type": "code",
   "execution_count": 17,
   "id": "5cf34be8-5a0f-477f-a03d-f337827466c6",
   "metadata": {},
   "outputs": [
    {
     "name": "stdout",
     "output_type": "stream",
     "text": [
      "Average Price per sqft by Furnishing Type:\n",
      "furnishing\n",
      "Furnished         4929.258136\n",
      "Semi-Furnished    4463.829025\n",
      "Unfurnished       4981.354382\n",
      "\n",
      "✅ Unfurnished properties have the highest price per sqft.\n",
      "✅ Semi-Furnished properties have the lowest price per sqft.\n"
     ]
    }
   ],
   "source": [
    "#Price difference between Unfurnished, Semi-Furnished, and Furnished\n",
    "\n",
    "avg_by_furnishing = df.groupby(\"furnishing\")[\"price_per_sqft\"].mean()\n",
    "\n",
    "print(\"Average Price per sqft by Furnishing Type:\")\n",
    "print(avg_by_furnishing.to_string())\n",
    "\n",
    "most_expensive = avg_by_furnishing.idxmax()\n",
    "least_expensive = avg_by_furnishing.idxmin()\n",
    "print(f\"\\n✅ {most_expensive} properties have the highest price per sqft.\")\n",
    "print(f\"✅ {least_expensive} properties have the lowest price per sqft.\")"
   ]
  },
  {
   "cell_type": "code",
   "execution_count": 18,
   "id": "1829103b-b991-4c25-85e6-0efa3724a510",
   "metadata": {},
   "outputs": [
    {
     "name": "stdout",
     "output_type": "stream",
     "text": [
      "\n",
      "Average Size (sqft) by Furnishing Type:\n",
      "furnishing\n",
      "Furnished         1556.729223\n",
      "Semi-Furnished    1287.551125\n",
      "Unfurnished       2086.300459\n",
      "\n",
      "✅ Unfurnished properties are typically the largest on average.\n",
      "✅ Semi-Furnished properties are typically the smallest on average.\n"
     ]
    }
   ],
   "source": [
    "#Are furnished houses typically smaller or larger?\n",
    "\n",
    "avg_size_by_furnishing = df.groupby(\"furnishing\")[\"square_feet\"].mean()\n",
    "\n",
    "print(\"\\nAverage Size (sqft) by Furnishing Type:\")\n",
    "print(avg_size_by_furnishing.to_string())\n",
    "\n",
    "largest = avg_size_by_furnishing.idxmax()\n",
    "smallest = avg_size_by_furnishing.idxmin()\n",
    "print(f\"\\n✅ {largest} properties are typically the largest on average.\")\n",
    "print(f\"✅ {smallest} properties are typically the smallest on average.\")"
   ]
  },
  {
   "cell_type": "code",
   "execution_count": null,
   "id": "38bf90f9-bc95-4c81-852e-514e8050a6b4",
   "metadata": {},
   "outputs": [],
   "source": []
  },
  {
   "cell_type": "markdown",
   "id": "4c6e5780-57c9-45ba-ad12-9b6d4c2660ce",
   "metadata": {},
   "source": [
    "Building Structure"
   ]
  },
  {
   "cell_type": "code",
   "execution_count": 19,
   "id": "0ca58f44-641c-4524-926a-1a3db23c0805",
   "metadata": {},
   "outputs": [
    {
     "name": "stdout",
     "output_type": "stream",
     "text": [
      "Average Price per sqft by Floor Number:\n",
      "floor_info\n",
      "-2.0     4591.333333\n",
      " 0.0     5351.939024\n",
      " 1.0     5291.522698\n",
      " 2.0     4776.935922\n",
      " 3.0     4245.459382\n",
      " 4.0     4493.134842\n",
      " 5.0     5070.329353\n",
      " 6.0     4792.095336\n",
      " 7.0     4940.921699\n",
      " 8.0     4800.851752\n",
      " 9.0     5062.997712\n",
      " 10.0    5053.544402\n",
      " 11.0    5086.448638\n",
      " 12.0    5229.290323\n",
      " 13.0    4885.608696\n",
      " 14.0    4068.875000\n",
      " 15.0    4903.666667\n",
      " 16.0    5960.714286\n",
      " 17.0    8615.000000\n",
      " 18.0    5370.166667\n",
      "\n",
      "Correlation (floor_info vs price_per_sqft): 0.037\n"
     ]
    }
   ],
   "source": [
    "# Do higher floors command a premium in price per sqft?\n",
    "\n",
    "corr_floor_price = df[\"floor_info\"].corr(df[\"price_per_sqft\"])\n",
    "avg_by_floor = df.groupby(\"floor_info\")[\"price_per_sqft\"].mean()\n",
    "\n",
    "print(\"Average Price per sqft by Floor Number:\")\n",
    "print(avg_by_floor.head(20).to_string())   \n",
    "print(f\"\\nCorrelation (floor_info vs price_per_sqft): {corr_floor_price:.3f}\")"
   ]
  },
  {
   "cell_type": "code",
   "execution_count": 20,
   "id": "3b5db9e7-308a-4614-8ffa-5a97cdd7f227",
   "metadata": {},
   "outputs": [
    {
     "name": "stdout",
     "output_type": "stream",
     "text": [
      "✅ Higher floors generally command a premium.\n"
     ]
    }
   ],
   "source": [
    "if corr_floor_price > 0:\n",
    "    print(\"✅ Higher floors generally command a premium.\")\n",
    "elif corr_floor_price < 0:\n",
    "    print(\"✅ Higher floors are generally cheaper per sqft.\")\n",
    "else:\n",
    "    print(\"✅ No clear relationship between floor number and price per sqft.\")"
   ]
  },
  {
   "cell_type": "code",
   "execution_count": 21,
   "id": "8b3ed4a7-ecbd-4374-a95f-dc41e92f9bfb",
   "metadata": {},
   "outputs": [
    {
     "name": "stdout",
     "output_type": "stream",
     "text": [
      "\n",
      "Average Price per sqft by Building Height (max_floors):\n",
      "max_floors\n",
      "1.0     5581.242894\n",
      "2.0     5673.368632\n",
      "3.0     6388.575191\n",
      "4.0     3453.286676\n",
      "5.0     3477.067036\n",
      "6.0     3874.400000\n",
      "7.0     3729.257352\n",
      "8.0     3660.060448\n",
      "9.0     4630.000000\n",
      "10.0    4940.593124\n",
      "11.0    5502.443543\n",
      "12.0    5372.205790\n",
      "13.0    4904.888675\n",
      "14.0    4312.320239\n",
      "15.0    4170.857143\n",
      "16.0    6203.666667\n",
      "17.0    9000.000000\n",
      "18.0    7711.523810\n",
      "19.0    5668.238095\n",
      "20.0    6668.206897\n",
      "\n",
      "Correlation (max_floors vs price_per_sqft): 0.094\n"
     ]
    }
   ],
   "source": [
    "#Relationship between building height (max_floors) and price per sqft\n",
    "\n",
    "corr_height_price = df[\"max_floors\"].corr(df[\"price_per_sqft\"])\n",
    "avg_by_height = df.groupby(\"max_floors\")[\"price_per_sqft\"].mean()\n",
    "\n",
    "print(\"\\nAverage Price per sqft by Building Height (max_floors):\")\n",
    "print(avg_by_height.head(20).to_string())   # show first 20 building heights\n",
    "print(f\"\\nCorrelation (max_floors vs price_per_sqft): {corr_height_price:.3f}\")"
   ]
  },
  {
   "cell_type": "code",
   "execution_count": 22,
   "id": "b606ac64-272c-4b17-9d35-2fd0e380589d",
   "metadata": {},
   "outputs": [
    {
     "name": "stdout",
     "output_type": "stream",
     "text": [
      "✅ Taller buildings tend to have higher prices per sqft.\n"
     ]
    }
   ],
   "source": [
    "if corr_height_price > 0:\n",
    "    print(\"✅ Taller buildings tend to have higher prices per sqft.\")\n",
    "elif corr_height_price < 0:\n",
    "    print(\"✅ Taller buildings tend to have lower prices per sqft.\")\n",
    "else:\n",
    "    print(\"✅ No clear relationship between building height and price per sqft.\")"
   ]
  },
  {
   "cell_type": "code",
   "execution_count": null,
   "id": "38b664b2-47f6-4532-aa44-02f44abf8323",
   "metadata": {},
   "outputs": [],
   "source": []
  }
 ],
 "metadata": {
  "kernelspec": {
   "display_name": "Python 3 (ipykernel)",
   "language": "python",
   "name": "python3"
  },
  "language_info": {
   "codemirror_mode": {
    "name": "ipython",
    "version": 3
   },
   "file_extension": ".py",
   "mimetype": "text/x-python",
   "name": "python",
   "nbconvert_exporter": "python",
   "pygments_lexer": "ipython3",
   "version": "3.12.7"
  }
 },
 "nbformat": 4,
 "nbformat_minor": 5
}
